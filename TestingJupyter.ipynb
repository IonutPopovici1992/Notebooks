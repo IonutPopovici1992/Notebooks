{
 "cells": [
  {
   "cell_type": "code",
   "execution_count": 1,
   "metadata": {},
   "outputs": [
    {
     "name": "stdout",
     "output_type": "stream",
     "text": [
      "Hello, World!!!\n"
     ]
    }
   ],
   "source": [
    "print('Hello, World!!!')"
   ]
  },
  {
   "cell_type": "markdown",
   "metadata": {},
   "source": [
    "# Testing Jupyter"
   ]
  },
  {
   "cell_type": "code",
   "execution_count": 2,
   "metadata": {},
   "outputs": [],
   "source": [
    "name = 'John'"
   ]
  },
  {
   "cell_type": "code",
   "execution_count": 3,
   "metadata": {},
   "outputs": [
    {
     "data": {
      "text/plain": [
       "'John'"
      ]
     },
     "execution_count": 3,
     "metadata": {},
     "output_type": "execute_result"
    }
   ],
   "source": [
    "name"
   ]
  },
  {
   "cell_type": "code",
   "execution_count": 4,
   "metadata": {},
   "outputs": [],
   "source": [
    "name = 'Corey'"
   ]
  },
  {
   "cell_type": "code",
   "execution_count": 5,
   "metadata": {},
   "outputs": [
    {
     "name": "stdout",
     "output_type": "stream",
     "text": [
      "Package                            Version  \r\n",
      "---------------------------------- ---------\r\n",
      "alabaster                          0.7.10   \r\n",
      "anaconda-client                    1.6.9    \r\n",
      "anaconda-navigator                 1.7.0    \r\n",
      "anaconda-project                   0.8.2    \r\n",
      "appnope                            0.1.0    \r\n",
      "appscript                          1.0.1    \r\n",
      "asn1crypto                         0.24.0   \r\n",
      "astroid                            1.6.1    \r\n",
      "astropy                            2.0.3    \r\n",
      "attrs                              17.4.0   \r\n",
      "Babel                              2.5.3    \r\n",
      "backports.shutil-get-terminal-size 1.0.0    \r\n",
      "beautifulsoup4                     4.6.0    \r\n",
      "bitarray                           0.8.1    \r\n",
      "bkcharts                           0.2      \r\n",
      "blaze                              0.11.3   \r\n",
      "bleach                             2.1.2    \r\n",
      "bokeh                              0.12.13  \r\n",
      "boto                               2.48.0   \r\n",
      "Bottleneck                         1.2.1    \r\n",
      "certifi                            2018.1.18\r\n",
      "cffi                               1.11.4   \r\n",
      "chardet                            3.0.4    \r\n",
      "click                              6.7      \r\n",
      "cloudpickle                        0.5.2    \r\n",
      "clyent                             1.2.2    \r\n",
      "colorama                           0.3.9    \r\n",
      "conda                              4.4.10   \r\n",
      "conda-build                        3.4.1    \r\n",
      "conda-verify                       2.0.0    \r\n",
      "contextlib2                        0.5.5    \r\n",
      "cryptography                       2.1.4    \r\n",
      "cycler                             0.10.0   \r\n",
      "Cython                             0.27.3   \r\n",
      "cytoolz                            0.9.0    \r\n",
      "dask                               0.16.1   \r\n",
      "datashape                          0.5.4    \r\n",
      "decorator                          4.2.1    \r\n",
      "distributed                        1.20.2   \r\n",
      "docutils                           0.14     \r\n",
      "entrypoints                        0.2.3    \r\n",
      "et-xmlfile                         1.0.1    \r\n",
      "fastcache                          1.0.2    \r\n",
      "filelock                           2.0.13   \r\n",
      "Flask                              0.12.2   \r\n",
      "Flask-Cors                         3.0.3    \r\n",
      "gevent                             1.2.2    \r\n",
      "glob2                              0.6      \r\n",
      "gmpy2                              2.0.8    \r\n",
      "greenlet                           0.4.12   \r\n",
      "h5py                               2.7.1    \r\n",
      "heapdict                           1.0.0    \r\n",
      "html5lib                           1.0.1    \r\n",
      "idna                               2.6      \r\n",
      "imageio                            2.2.0    \r\n",
      "imagesize                          0.7.1    \r\n",
      "ipykernel                          4.8.0    \r\n",
      "ipython                            6.2.1    \r\n",
      "ipython-genutils                   0.2.0    \r\n",
      "ipywidgets                         7.1.1    \r\n",
      "isort                              4.2.15   \r\n",
      "itsdangerous                       0.24     \r\n",
      "jdcal                              1.3      \r\n",
      "jedi                               0.11.1   \r\n",
      "Jinja2                             2.10     \r\n",
      "jsonschema                         2.6.0    \r\n",
      "jupyter                            1.0.0    \r\n",
      "jupyter-client                     5.2.2    \r\n",
      "jupyter-console                    5.2.0    \r\n",
      "jupyter-core                       4.4.0    \r\n",
      "jupyterlab                         0.31.5   \r\n",
      "jupyterlab-launcher                0.10.2   \r\n",
      "lazy-object-proxy                  1.3.1    \r\n",
      "llvmlite                           0.21.0   \r\n",
      "locket                             0.2.0    \r\n",
      "lxml                               4.1.1    \r\n",
      "MarkupSafe                         1.0      \r\n",
      "matplotlib                         2.1.2    \r\n",
      "mccabe                             0.6.1    \r\n",
      "mistune                            0.8.3    \r\n",
      "mpmath                             1.0.0    \r\n",
      "msgpack-python                     0.5.1    \r\n",
      "multipledispatch                   0.4.9    \r\n",
      "navigator-updater                  0.1.0    \r\n",
      "nbconvert                          5.3.1    \r\n",
      "nbformat                           4.4.0    \r\n",
      "networkx                           2.1      \r\n",
      "nltk                               3.2.5    \r\n",
      "nose                               1.3.7    \r\n",
      "notebook                           5.4.0    \r\n",
      "numba                              0.36.2   \r\n",
      "numexpr                            2.6.4    \r\n",
      "numpy                              1.14.0   \r\n",
      "numpydoc                           0.7.0    \r\n",
      "odo                                0.5.1    \r\n",
      "olefile                            0.45.1   \r\n",
      "openpyxl                           2.4.10   \r\n",
      "packaging                          16.8     \r\n",
      "pandas                             0.22.0   \r\n",
      "pandocfilters                      1.4.2    \r\n",
      "parso                              0.1.1    \r\n",
      "partd                              0.3.8    \r\n",
      "path.py                            10.5     \r\n",
      "pathlib2                           2.3.0    \r\n",
      "patsy                              0.5.0    \r\n",
      "pep8                               1.7.1    \r\n",
      "pexpect                            4.3.1    \r\n",
      "pickleshare                        0.7.4    \r\n",
      "Pillow                             5.0.0    \r\n",
      "pip                                10.0.1   \r\n",
      "pkginfo                            1.4.1    \r\n",
      "pluggy                             0.6.0    \r\n",
      "ply                                3.10     \r\n",
      "prompt-toolkit                     1.0.15   \r\n",
      "psutil                             5.4.3    \r\n",
      "ptyprocess                         0.5.2    \r\n",
      "py                                 1.5.2    \r\n",
      "pycodestyle                        2.3.1    \r\n",
      "pycosat                            0.6.3    \r\n",
      "pycparser                          2.18     \r\n",
      "pycrypto                           2.6.1    \r\n",
      "pycurl                             7.43.0.1 \r\n",
      "pyflakes                           1.6.0    \r\n",
      "Pygments                           2.2.0    \r\n",
      "pylint                             1.8.2    \r\n",
      "pyodbc                             4.0.22   \r\n",
      "pyOpenSSL                          17.5.0   \r\n",
      "pyparsing                          2.2.0    \r\n",
      "PySocks                            1.6.7    \r\n",
      "pytest                             3.3.2    \r\n",
      "python-dateutil                    2.6.1    \r\n",
      "pytz                               2017.3   \r\n",
      "PyWavelets                         0.5.2    \r\n",
      "PyYAML                             3.12     \r\n",
      "pyzmq                              16.0.3   \r\n",
      "QtAwesome                          0.4.4    \r\n",
      "qtconsole                          4.3.1    \r\n",
      "QtPy                               1.3.1    \r\n",
      "requests                           2.18.4   \r\n",
      "rope                               0.10.7   \r\n",
      "ruamel-yaml                        0.15.35  \r\n",
      "scikit-image                       0.13.1   \r\n",
      "scikit-learn                       0.19.1   \r\n",
      "scipy                              1.0.0    \r\n",
      "seaborn                            0.8.1    \r\n",
      "Send2Trash                         1.4.2    \r\n",
      "setuptools                         38.4.0   \r\n",
      "simplegeneric                      0.8.1    \r\n",
      "singledispatch                     3.4.0.3  \r\n",
      "six                                1.11.0   \r\n",
      "snowballstemmer                    1.2.1    \r\n",
      "sortedcollections                  0.5.3    \r\n",
      "sortedcontainers                   1.5.9    \r\n",
      "Sphinx                             1.6.6    \r\n",
      "sphinxcontrib-websupport           1.0.1    \r\n",
      "spyder                             3.2.6    \r\n",
      "SQLAlchemy                         1.2.1    \r\n",
      "statsmodels                        0.8.0    \r\n",
      "sympy                              1.1.1    \r\n",
      "tables                             3.4.2    \r\n",
      "tblib                              1.3.2    \r\n",
      "terminado                          0.8.1    \r\n",
      "testpath                           0.3.1    \r\n",
      "toolz                              0.9.0    \r\n",
      "tornado                            4.5.3    \r\n",
      "traitlets                          4.3.2    \r\n",
      "typing                             3.6.2    \r\n",
      "unicodecsv                         0.14.1   \r\n",
      "urllib3                            1.22     \r\n",
      "wcwidth                            0.1.7    \r\n",
      "webencodings                       0.5.1    \r\n",
      "Werkzeug                           0.14.1   \r\n",
      "wheel                              0.30.0   \r\n",
      "widgetsnbextension                 3.1.0    \r\n",
      "wrapt                              1.10.11  \r\n",
      "xlrd                               1.1.0    \r\n",
      "XlsxWriter                         1.0.2    \r\n",
      "xlwings                            0.11.5   \r\n",
      "xlwt                               1.2.0    \r\n",
      "zict                               0.1.3    \r\n"
     ]
    }
   ],
   "source": [
    "!pip list"
   ]
  },
  {
   "cell_type": "code",
   "execution_count": 6,
   "metadata": {},
   "outputs": [
    {
     "data": {
      "application/json": {
       "cell": {
        "!": "OSMagics",
        "HTML": "Other",
        "SVG": "Other",
        "bash": "Other",
        "capture": "ExecutionMagics",
        "debug": "ExecutionMagics",
        "file": "Other",
        "html": "DisplayMagics",
        "javascript": "DisplayMagics",
        "js": "DisplayMagics",
        "latex": "DisplayMagics",
        "markdown": "DisplayMagics",
        "perl": "Other",
        "prun": "ExecutionMagics",
        "pypy": "Other",
        "python": "Other",
        "python2": "Other",
        "python3": "Other",
        "ruby": "Other",
        "script": "ScriptMagics",
        "sh": "Other",
        "svg": "DisplayMagics",
        "sx": "OSMagics",
        "system": "OSMagics",
        "time": "ExecutionMagics",
        "timeit": "ExecutionMagics",
        "writefile": "OSMagics"
       },
       "line": {
        "alias": "OSMagics",
        "alias_magic": "BasicMagics",
        "autocall": "AutoMagics",
        "automagic": "AutoMagics",
        "autosave": "KernelMagics",
        "bookmark": "OSMagics",
        "cat": "Other",
        "cd": "OSMagics",
        "clear": "KernelMagics",
        "colors": "BasicMagics",
        "config": "ConfigMagics",
        "connect_info": "KernelMagics",
        "cp": "Other",
        "debug": "ExecutionMagics",
        "dhist": "OSMagics",
        "dirs": "OSMagics",
        "doctest_mode": "BasicMagics",
        "ed": "Other",
        "edit": "KernelMagics",
        "env": "OSMagics",
        "gui": "BasicMagics",
        "hist": "Other",
        "history": "HistoryMagics",
        "killbgscripts": "ScriptMagics",
        "ldir": "Other",
        "less": "KernelMagics",
        "lf": "Other",
        "lk": "Other",
        "ll": "Other",
        "load": "CodeMagics",
        "load_ext": "ExtensionMagics",
        "loadpy": "CodeMagics",
        "logoff": "LoggingMagics",
        "logon": "LoggingMagics",
        "logstart": "LoggingMagics",
        "logstate": "LoggingMagics",
        "logstop": "LoggingMagics",
        "ls": "Other",
        "lsmagic": "BasicMagics",
        "lx": "Other",
        "macro": "ExecutionMagics",
        "magic": "BasicMagics",
        "man": "KernelMagics",
        "matplotlib": "PylabMagics",
        "mkdir": "Other",
        "more": "KernelMagics",
        "mv": "Other",
        "notebook": "BasicMagics",
        "page": "BasicMagics",
        "pastebin": "CodeMagics",
        "pdb": "ExecutionMagics",
        "pdef": "NamespaceMagics",
        "pdoc": "NamespaceMagics",
        "pfile": "NamespaceMagics",
        "pinfo": "NamespaceMagics",
        "pinfo2": "NamespaceMagics",
        "pip": "BasicMagics",
        "popd": "OSMagics",
        "pprint": "BasicMagics",
        "precision": "BasicMagics",
        "profile": "BasicMagics",
        "prun": "ExecutionMagics",
        "psearch": "NamespaceMagics",
        "psource": "NamespaceMagics",
        "pushd": "OSMagics",
        "pwd": "OSMagics",
        "pycat": "OSMagics",
        "pylab": "PylabMagics",
        "qtconsole": "KernelMagics",
        "quickref": "BasicMagics",
        "recall": "HistoryMagics",
        "rehashx": "OSMagics",
        "reload_ext": "ExtensionMagics",
        "rep": "Other",
        "rerun": "HistoryMagics",
        "reset": "NamespaceMagics",
        "reset_selective": "NamespaceMagics",
        "rm": "Other",
        "rmdir": "Other",
        "run": "ExecutionMagics",
        "save": "CodeMagics",
        "sc": "OSMagics",
        "set_env": "OSMagics",
        "store": "StoreMagics",
        "sx": "OSMagics",
        "system": "OSMagics",
        "tb": "ExecutionMagics",
        "time": "ExecutionMagics",
        "timeit": "ExecutionMagics",
        "unalias": "OSMagics",
        "unload_ext": "ExtensionMagics",
        "who": "NamespaceMagics",
        "who_ls": "NamespaceMagics",
        "whos": "NamespaceMagics",
        "xdel": "NamespaceMagics",
        "xmode": "BasicMagics"
       }
      },
      "text/plain": [
       "Available line magics:\n",
       "%alias  %alias_magic  %autocall  %automagic  %autosave  %bookmark  %cat  %cd  %clear  %colors  %config  %connect_info  %cp  %debug  %dhist  %dirs  %doctest_mode  %ed  %edit  %env  %gui  %hist  %history  %killbgscripts  %ldir  %less  %lf  %lk  %ll  %load  %load_ext  %loadpy  %logoff  %logon  %logstart  %logstate  %logstop  %ls  %lsmagic  %lx  %macro  %magic  %man  %matplotlib  %mkdir  %more  %mv  %notebook  %page  %pastebin  %pdb  %pdef  %pdoc  %pfile  %pinfo  %pinfo2  %popd  %pprint  %precision  %profile  %prun  %psearch  %psource  %pushd  %pwd  %pycat  %pylab  %qtconsole  %quickref  %recall  %rehashx  %reload_ext  %rep  %rerun  %reset  %reset_selective  %rm  %rmdir  %run  %save  %sc  %set_env  %store  %sx  %system  %tb  %time  %timeit  %unalias  %unload_ext  %who  %who_ls  %whos  %xdel  %xmode\n",
       "\n",
       "Available cell magics:\n",
       "%%!  %%HTML  %%SVG  %%bash  %%capture  %%debug  %%file  %%html  %%javascript  %%js  %%latex  %%markdown  %%perl  %%prun  %%pypy  %%python  %%python2  %%python3  %%ruby  %%script  %%sh  %%svg  %%sx  %%system  %%time  %%timeit  %%writefile\n",
       "\n",
       "Automagic is ON, % prefix IS NOT needed for line magics."
      ]
     },
     "execution_count": 6,
     "metadata": {},
     "output_type": "execute_result"
    }
   ],
   "source": [
    "%lsmagic"
   ]
  },
  {
   "cell_type": "code",
   "execution_count": 7,
   "metadata": {},
   "outputs": [
    {
     "data": {
      "text/plain": [
       "'/Users/john/Desktop/Notebooks'"
      ]
     },
     "execution_count": 7,
     "metadata": {},
     "output_type": "execute_result"
    }
   ],
   "source": [
    "%pwd"
   ]
  },
  {
   "cell_type": "code",
   "execution_count": 8,
   "metadata": {},
   "outputs": [
    {
     "name": "stdout",
     "output_type": "stream",
     "text": [
      "total 40\r\n",
      "drwxr-xr-x   4 john  staff    128 Jun 14 14:12 \u001b[34m.\u001b[m\u001b[m/\r\n",
      "drwx------+ 14 john  staff    448 Jun 14 11:41 \u001b[34m..\u001b[m\u001b[m/\r\n",
      "drwxr-xr-x   3 john  staff     96 Jun 14 12:32 \u001b[34m.ipynb_checkpoints\u001b[m\u001b[m/\r\n",
      "-rw-r--r--   1 john  staff  18095 Jun 14 14:12 Testing Jupyter.ipynb\r\n"
     ]
    }
   ],
   "source": [
    "%ls -la"
   ]
  },
  {
   "cell_type": "code",
   "execution_count": 9,
   "metadata": {},
   "outputs": [],
   "source": [
    "%matplotlib inline"
   ]
  },
  {
   "cell_type": "code",
   "execution_count": 10,
   "metadata": {},
   "outputs": [
    {
     "data": {
      "image/png": "[encoded data removed]",
      "text/plain": [
       "<matplotlib.figure.Figure at 0x109075208>"
      ]
     },
     "metadata": {},
     "output_type": "display_data"
    }
   ],
   "source": [
    "\"\"\"\n",
    "Simple demo of a scatter plot.\n",
    "\"\"\"\n",
    "\n",
    "import numpy as np\n",
    "import matplotlib.pyplot as plt\n",
    "\n",
    "N = 50\n",
    "x = np.random.rand(N)\n",
    "y = np.random.rand(N)\n",
    "colors = np.random.rand(N)\n",
    "area = np.pi * (15 * np.random.rand(N)) ** 2  # 0 to 15 point radiuses\n",
    "\n",
    "plt.scatter(x, y, s = area, c = colors, alpha = 0.5)\n",
    "plt.show()"
   ]
  },
  {
   "cell_type": "code",
   "execution_count": 13,
   "metadata": {},
   "outputs": [
    {
     "data": {
      "text/html": [
       "<iframe width=\"560\" height=\"315\" src=\"https://www.youtube.com/watch?v=YJC6ldI3hWk\" frameborder=\"0\" allowfullscreen></iframe>"
      ],
      "text/plain": [
       "<IPython.core.display.HTML object>"
      ]
     },
     "metadata": {},
     "output_type": "display_data"
    }
   ],
   "source": [
    "%%HTML\n",
    "<iframe width=\"560\" height=\"315\" src=\"https://www.youtube.com/watch?v=YJC6ldI3hWk\" frameborder=\"0\" allowfullscreen></iframe>"
   ]
  },
  {
   "cell_type": "code",
   "execution_count": 14,
   "metadata": {},
   "outputs": [
    {
     "name": "stdout",
     "output_type": "stream",
     "text": [
      "68.8 µs ± 596 ns per loop (mean ± std. dev. of 7 runs, 10000 loops each)\n"
     ]
    }
   ],
   "source": [
    "%%timeit\n",
    "square_evens = [n * n for n in range(1000)]"
   ]
  },
  {
   "cell_type": "code",
   "execution_count": 15,
   "metadata": {},
   "outputs": [
    {
     "data": {
      "text/html": [
       "<div>\n",
       "<style scoped>\n",
       "    .dataframe tbody tr th:only-of-type {\n",
       "        vertical-align: middle;\n",
       "    }\n",
       "\n",
       "    .dataframe tbody tr th {\n",
       "        vertical-align: top;\n",
       "    }\n",
       "\n",
       "    .dataframe thead th {\n",
       "        text-align: right;\n",
       "    }\n",
       "</style>\n",
       "<table border=\"1\" class=\"dataframe\">\n",
       "  <thead>\n",
       "    <tr style=\"text-align: right;\">\n",
       "      <th></th>\n",
       "      <th>0</th>\n",
       "      <th>1</th>\n",
       "      <th>2</th>\n",
       "      <th>3</th>\n",
       "      <th>4</th>\n",
       "    </tr>\n",
       "  </thead>\n",
       "  <tbody>\n",
       "    <tr>\n",
       "      <th>0</th>\n",
       "      <td>-0.449483</td>\n",
       "      <td>0.607657</td>\n",
       "      <td>-1.373079</td>\n",
       "      <td>0.952304</td>\n",
       "      <td>0.045018</td>\n",
       "    </tr>\n",
       "    <tr>\n",
       "      <th>1</th>\n",
       "      <td>0.317012</td>\n",
       "      <td>-0.215781</td>\n",
       "      <td>0.187568</td>\n",
       "      <td>2.502453</td>\n",
       "      <td>1.120929</td>\n",
       "    </tr>\n",
       "    <tr>\n",
       "      <th>2</th>\n",
       "      <td>-0.960386</td>\n",
       "      <td>0.711699</td>\n",
       "      <td>0.422270</td>\n",
       "      <td>0.200110</td>\n",
       "      <td>0.852154</td>\n",
       "    </tr>\n",
       "    <tr>\n",
       "      <th>3</th>\n",
       "      <td>0.936457</td>\n",
       "      <td>-0.153704</td>\n",
       "      <td>0.568953</td>\n",
       "      <td>1.980896</td>\n",
       "      <td>-0.470939</td>\n",
       "    </tr>\n",
       "    <tr>\n",
       "      <th>4</th>\n",
       "      <td>-1.848308</td>\n",
       "      <td>1.116927</td>\n",
       "      <td>-1.652801</td>\n",
       "      <td>-1.150387</td>\n",
       "      <td>1.816345</td>\n",
       "    </tr>\n",
       "    <tr>\n",
       "      <th>5</th>\n",
       "      <td>0.777728</td>\n",
       "      <td>-0.457040</td>\n",
       "      <td>1.318636</td>\n",
       "      <td>-0.800561</td>\n",
       "      <td>1.248410</td>\n",
       "    </tr>\n",
       "    <tr>\n",
       "      <th>6</th>\n",
       "      <td>-0.901720</td>\n",
       "      <td>0.176782</td>\n",
       "      <td>-1.228769</td>\n",
       "      <td>-0.393618</td>\n",
       "      <td>0.153828</td>\n",
       "    </tr>\n",
       "    <tr>\n",
       "      <th>7</th>\n",
       "      <td>0.252902</td>\n",
       "      <td>-1.066122</td>\n",
       "      <td>0.301420</td>\n",
       "      <td>-0.208767</td>\n",
       "      <td>-0.872574</td>\n",
       "    </tr>\n",
       "    <tr>\n",
       "      <th>8</th>\n",
       "      <td>-0.024970</td>\n",
       "      <td>1.335279</td>\n",
       "      <td>-0.210975</td>\n",
       "      <td>-0.352410</td>\n",
       "      <td>-2.270205</td>\n",
       "    </tr>\n",
       "    <tr>\n",
       "      <th>9</th>\n",
       "      <td>1.573754</td>\n",
       "      <td>0.000656</td>\n",
       "      <td>-1.210136</td>\n",
       "      <td>-0.772036</td>\n",
       "      <td>-1.398617</td>\n",
       "    </tr>\n",
       "  </tbody>\n",
       "</table>\n",
       "</div>"
      ],
      "text/plain": [
       "          0         1         2         3         4\n",
       "0 -0.449483  0.607657 -1.373079  0.952304  0.045018\n",
       "1  0.317012 -0.215781  0.187568  2.502453  1.120929\n",
       "2 -0.960386  0.711699  0.422270  0.200110  0.852154\n",
       "3  0.936457 -0.153704  0.568953  1.980896 -0.470939\n",
       "4 -1.848308  1.116927 -1.652801 -1.150387  1.816345\n",
       "5  0.777728 -0.457040  1.318636 -0.800561  1.248410\n",
       "6 -0.901720  0.176782 -1.228769 -0.393618  0.153828\n",
       "7  0.252902 -1.066122  0.301420 -0.208767 -0.872574\n",
       "8 -0.024970  1.335279 -0.210975 -0.352410 -2.270205\n",
       "9  1.573754  0.000656 -1.210136 -0.772036 -1.398617"
      ]
     },
     "execution_count": 15,
     "metadata": {},
     "output_type": "execute_result"
    }
   ],
   "source": [
    "import pandas as pd\n",
    "import numpy as np\n",
    "\n",
    "df = pd.DataFrame(np.random.randn(10, 5))\n",
    "df"
   ]
  },
  {
   "cell_type": "code",
   "execution_count": 16,
   "metadata": {},
   "outputs": [
    {
     "data": {
      "text/html": [
       "<div>\n",
       "<style scoped>\n",
       "    .dataframe tbody tr th:only-of-type {\n",
       "        vertical-align: middle;\n",
       "    }\n",
       "\n",
       "    .dataframe tbody tr th {\n",
       "        vertical-align: top;\n",
       "    }\n",
       "\n",
       "    .dataframe thead th {\n",
       "        text-align: right;\n",
       "    }\n",
       "</style>\n",
       "<table border=\"1\" class=\"dataframe\">\n",
       "  <thead>\n",
       "    <tr style=\"text-align: right;\">\n",
       "      <th></th>\n",
       "      <th>0</th>\n",
       "      <th>1</th>\n",
       "      <th>2</th>\n",
       "      <th>3</th>\n",
       "      <th>4</th>\n",
       "    </tr>\n",
       "  </thead>\n",
       "  <tbody>\n",
       "    <tr>\n",
       "      <th>0</th>\n",
       "      <td>-1.363702</td>\n",
       "      <td>0.487676</td>\n",
       "      <td>-0.077169</td>\n",
       "      <td>-1.125407</td>\n",
       "      <td>0.548386</td>\n",
       "    </tr>\n",
       "    <tr>\n",
       "      <th>1</th>\n",
       "      <td>0.716987</td>\n",
       "      <td>0.103650</td>\n",
       "      <td>-0.251473</td>\n",
       "      <td>-0.874947</td>\n",
       "      <td>-0.338865</td>\n",
       "    </tr>\n",
       "    <tr>\n",
       "      <th>2</th>\n",
       "      <td>-0.934755</td>\n",
       "      <td>-0.115268</td>\n",
       "      <td>-0.153380</td>\n",
       "      <td>-1.508412</td>\n",
       "      <td>-0.434503</td>\n",
       "    </tr>\n",
       "    <tr>\n",
       "      <th>3</th>\n",
       "      <td>-0.198053</td>\n",
       "      <td>0.535518</td>\n",
       "      <td>1.871925</td>\n",
       "      <td>-0.696340</td>\n",
       "      <td>-0.539454</td>\n",
       "    </tr>\n",
       "    <tr>\n",
       "      <th>4</th>\n",
       "      <td>0.454610</td>\n",
       "      <td>-0.376783</td>\n",
       "      <td>1.306176</td>\n",
       "      <td>0.082120</td>\n",
       "      <td>-0.517048</td>\n",
       "    </tr>\n",
       "  </tbody>\n",
       "</table>\n",
       "</div>"
      ],
      "text/plain": [
       "          0         1         2         3         4\n",
       "0 -1.363702  0.487676 -0.077169 -1.125407  0.548386\n",
       "1  0.716987  0.103650 -0.251473 -0.874947 -0.338865\n",
       "2 -0.934755 -0.115268 -0.153380 -1.508412 -0.434503\n",
       "3 -0.198053  0.535518  1.871925 -0.696340 -0.539454\n",
       "4  0.454610 -0.376783  1.306176  0.082120 -0.517048"
      ]
     },
     "execution_count": 16,
     "metadata": {},
     "output_type": "execute_result"
    }
   ],
   "source": [
    "import pandas as pd\n",
    "import numpy as np\n",
    "\n",
    "df = pd.DataFrame(np.random.randn(10, 5))\n",
    "df.head()"
   ]
  }
 ],
 "metadata": {
  "kernelspec": {
   "display_name": "Python 3",
   "language": "python",
   "name": "python3"
  },
  "language_info": {
   "codemirror_mode": {
    "name": "ipython",
    "version": 3
   },
   "file_extension": ".py",
   "mimetype": "text/x-python",
   "name": "python",
   "nbconvert_exporter": "python",
   "pygments_lexer": "ipython3",
   "version": "3.6.4"
  }
 },
 "nbformat": 4,
 "nbformat_minor": 2
}
