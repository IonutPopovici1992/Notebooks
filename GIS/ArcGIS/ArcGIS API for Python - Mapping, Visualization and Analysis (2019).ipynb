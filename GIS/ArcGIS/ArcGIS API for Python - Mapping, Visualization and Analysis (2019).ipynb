{
 "cells": [
  {
   "cell_type": "markdown",
   "metadata": {},
   "source": [
    "# Visualization with ArcGIS smart mapping"
   ]
  },
  {
   "cell_type": "markdown",
   "metadata": {},
   "source": [
    "## Smart mapping of line features"
   ]
  },
  {
   "cell_type": "code",
   "execution_count": 1,
   "metadata": {},
   "outputs": [],
   "source": [
    "from arcgis.gis import *\n",
    "gis = GIS()"
   ]
  },
  {
   "cell_type": "code",
   "execution_count": 2,
   "metadata": {},
   "outputs": [
    {
     "data": {
      "application/vnd.jupyter.widget-view+json": {
       "model_id": "ab8ebbd2f8234576a2a2d61780390e17",
       "version_major": 2,
       "version_minor": 0
      },
      "text/plain": [
       "MapView(layout=Layout(height='400px', width='100%'), zoom=3.0)"
      ]
     },
     "metadata": {},
     "output_type": "display_data"
    },
    {
     "data": {
      "text/html": [
       "<div class=\"map-static-img-preview-43032831-62b4-4d59-954e-d93d7a99aa7e\"><img src=\"\"></img></div>"
      ],
      "text/plain": [
       "<IPython.core.display.HTML object>"
      ]
     },
     "metadata": {},
     "output_type": "display_data"
    }
   ],
   "source": [
    "map1 = gis.map('USA', 3)\n",
    "map1"
   ]
  },
  {
   "cell_type": "code",
   "execution_count": 3,
   "metadata": {},
   "outputs": [
    {
     "data": {
      "text/plain": [
       "[<Item title:\"USA Freeway System\" type:Feature Layer Collection owner:esri>]"
      ]
     },
     "execution_count": 3,
     "metadata": {},
     "output_type": "execute_result"
    }
   ],
   "source": [
    "search_result = gis.content.search('title:USA Freeway System AND owner:esri',\n",
    "                                   item_type = 'Feature Layer')\n",
    "search_result"
   ]
  },
  {
   "cell_type": "code",
   "execution_count": 4,
   "metadata": {},
   "outputs": [],
   "source": [
    "freeway_item = search_result[0]\n",
    "map1.add_layer(freeway_item)"
   ]
  },
  {
   "cell_type": "markdown",
   "metadata": {},
   "source": [
    "### Display the fields"
   ]
  },
  {
   "cell_type": "code",
   "execution_count": 5,
   "metadata": {},
   "outputs": [
    {
     "data": {
      "text/plain": [
       "[<FeatureLayer url:\"https://services.arcgis.com/P3ePLMYs2RVChkJx/arcgis/rest/services/USA_Freeway_System/FeatureServer/1\">,\n",
       " <FeatureLayer url:\"https://services.arcgis.com/P3ePLMYs2RVChkJx/arcgis/rest/services/USA_Freeway_System/FeatureServer/2\">]"
      ]
     },
     "execution_count": 5,
     "metadata": {},
     "output_type": "execute_result"
    }
   ],
   "source": [
    "freeway_item.layers"
   ]
  },
  {
   "cell_type": "code",
   "execution_count": 6,
   "metadata": {},
   "outputs": [
    {
     "name": "stdout",
     "output_type": "stream",
     "text": [
      "https://services.arcgis.com/P3ePLMYs2RVChkJx/arcgis/rest/services/USA_Freeway_System/FeatureServer/1\n",
      "OBJECTID \t esriFieldTypeOID\n",
      "ROUTE_NUM \t esriFieldTypeString\n",
      "CLASS \t esriFieldTypeString\n",
      "NUMBER \t esriFieldTypeString\n",
      "SUFFIX \t esriFieldTypeString\n",
      "DIST_MILES \t esriFieldTypeDouble\n",
      "DIST_KM \t esriFieldTypeDouble\n"
     ]
    }
   ],
   "source": [
    "# Use the first layer available on the service.\n",
    "freeway_feature_layer = freeway_item.layers[0]\n",
    "\n",
    "# Print the layer's url and field names.\n",
    "print(freeway_feature_layer.url)\n",
    "for field in freeway_feature_layer.properties['fields']:\n",
    "    print(field['name'] + \" \\t \" + field['type'])"
   ]
  },
  {
   "cell_type": "code",
   "execution_count": 7,
   "metadata": {},
   "outputs": [],
   "source": [
    "map1.add_layer(freeway_feature_layer, {\"renderer\": \"ClassedSizeRenderer\", \"field_name\": \"DIST_MILES\"})"
   ]
  },
  {
   "cell_type": "code",
   "execution_count": 8,
   "metadata": {},
   "outputs": [],
   "source": [
    "# Change map's extent to San Diego, CA\n",
    "map1.center = [32.715, -117.1]"
   ]
  },
  {
   "cell_type": "code",
   "execution_count": 9,
   "metadata": {},
   "outputs": [],
   "source": [
    "map1.zoom = 10"
   ]
  },
  {
   "cell_type": "markdown",
   "metadata": {},
   "source": [
    "# Visualizing area features"
   ]
  },
  {
   "cell_type": "markdown",
   "metadata": {},
   "source": [
    "## Use definition queries to limit data during rendering"
   ]
  },
  {
   "cell_type": "code",
   "execution_count": 10,
   "metadata": {},
   "outputs": [
    {
     "data": {
      "application/vnd.jupyter.widget-view+json": {
       "model_id": "49e3fdc63ade4f61b155bc4618dc4b33",
       "version_major": 2,
       "version_minor": 0
      },
      "text/plain": [
       "MapView(layout=Layout(height='400px', width='100%'), zoom=6.0)"
      ]
     },
     "metadata": {},
     "output_type": "display_data"
    },
    {
     "data": {
      "text/html": [
       "<div class=\"map-static-img-preview-dbeb5459-94c4-4424-99e5-b810cf488dbb\"><img src=\"\"></img></div>"
      ],
      "text/plain": [
       "<IPython.core.display.HTML object>"
      ]
     },
     "metadata": {},
     "output_type": "display_data"
    }
   ],
   "source": [
    "map2 = gis.map('California', 6)\n",
    "map2"
   ]
  },
  {
   "cell_type": "code",
   "execution_count": 11,
   "metadata": {},
   "outputs": [
    {
     "data": {
      "application/vnd.jupyter.widget-view+json": {
       "model_id": "015e30f8c3d543c793e2ea4a282dc8f8",
       "version_major": 2,
       "version_minor": 0
      },
      "text/plain": [
       "MapView(layout=Layout(height='400px', width='100%'), zoom=6.0)"
      ]
     },
     "metadata": {},
     "output_type": "display_data"
    },
    {
     "data": {
      "text/html": [
       "<div class=\"map-static-img-preview-6f6a24e3-c757-4fdd-a3c1-43f0b75899fd\"><img src=\"\"></img></div>"
      ],
      "text/plain": [
       "<IPython.core.display.HTML object>"
      ]
     },
     "metadata": {},
     "output_type": "display_data"
    }
   ],
   "source": [
    "map3 = gis.map('Seattle, WA', 6)\n",
    "map3"
   ]
  },
  {
   "cell_type": "code",
   "execution_count": 12,
   "metadata": {},
   "outputs": [],
   "source": [
    "map3.add_layer({\"type\": \"FeatureLayer\",\n",
    "                \"url\": \"//sampleserver6.arcgisonline.com/arcgis/rest/services/Census/MapServer/2\",\n",
    "                \"definition_expression\": \"STATE_NAME='Washington'\",\n",
    "                \"renderer\": \"ClassedColorRenderer\",\n",
    "                \"field_name\": \"POP2007\",\n",
    "                \"opacity\": 0.7\n",
    "               })"
   ]
  },
  {
   "cell_type": "markdown",
   "metadata": {},
   "source": [
    "### Visualizing location data"
   ]
  },
  {
   "cell_type": "code",
   "execution_count": 13,
   "metadata": {},
   "outputs": [
    {
     "data": {
      "application/vnd.jupyter.widget-view+json": {
       "model_id": "c86464b37d5b4be8b7d5450dcab7e2d0",
       "version_major": 2,
       "version_minor": 0
      },
      "text/plain": [
       "MapView(layout=Layout(height='400px', width='100%'), zoom=8.0)"
      ]
     },
     "metadata": {},
     "output_type": "display_data"
    },
    {
     "data": {
      "text/html": [
       "<div class=\"map-static-img-preview-b6dca8d1-27fe-48ed-89e0-b11892d6ba8e\"><img src=\"\"></img></div>"
      ],
      "text/plain": [
       "<IPython.core.display.HTML object>"
      ]
     },
     "metadata": {},
     "output_type": "display_data"
    }
   ],
   "source": [
    "map4 = gis.map('Los Angeles', 8)\n",
    "map4"
   ]
  },
  {
   "cell_type": "code",
   "execution_count": 14,
   "metadata": {},
   "outputs": [],
   "source": [
    "map4.add_layer({\"type\": \"FeatureLayer\",\n",
    "                \"url\": \"http://services1.arcgis.com/hLJbHVT9ZrDIzK0I/arcgis/rest/services/EQMagGt4/FeatureServer/0\",\n",
    "                \"renderer\": \"HeatmapRenderer\",\n",
    "                \"opacity\": 0.75\n",
    "               })"
   ]
  },
  {
   "cell_type": "markdown",
   "metadata": {},
   "source": [
    "### Property Updating"
   ]
  },
  {
   "cell_type": "code",
   "execution_count": 15,
   "metadata": {},
   "outputs": [
    {
     "data": {
      "application/vnd.jupyter.widget-view+json": {
       "model_id": "75b45a6525314fa2b2d6e01023a4b15d",
       "version_major": 2,
       "version_minor": 0
      },
      "text/plain": [
       "MapView(layout=Layout(height='400px', width='100%'), mode='3D')"
      ]
     },
     "metadata": {},
     "output_type": "display_data"
    },
    {
     "data": {
      "text/html": [
       "<div class=\"map-static-img-preview-dc7f1b26-2078-43bb-b5da-1a18e3c885ad\"><img src=\"\"></img></div>"
      ],
      "text/plain": [
       "<IPython.core.display.HTML object>"
      ]
     },
     "metadata": {},
     "output_type": "display_data"
    }
   ],
   "source": [
    "from arcgis.gis import GIS\n",
    "gis = GIS()\n",
    "agol_gis = GIS()\n",
    "\n",
    "def print_map_info(map):\n",
    "    print(\"Mode =\\t\\t{}\".format(map.mode))\n",
    "    if map.mode == \"2D\":\n",
    "        print(\"Zoom =\\t\\t{}\\n\".format(map.zoom) + \\\n",
    "             \"Rotation =\\t{}\".format(map.rotation))\n",
    "    elif map.mode == \"3D\":\n",
    "        print(\"Zoom =\\t\\t{}\\n\".format(map.zoom) + \\\n",
    "             \"Tilt =\\t\\t{}\\n\".format(map.tilt) + \\\n",
    "             \"Heading = \\t{}\".format(map.heading))\n",
    "    else:\n",
    "        raise Exception(\"Not supported argument.\")\n",
    "\n",
    "usa_map = gis.map(\"USA\")\n",
    "usa_map.mode = \"3D\"\n",
    "usa_map"
   ]
  },
  {
   "cell_type": "code",
   "execution_count": 16,
   "metadata": {},
   "outputs": [
    {
     "name": "stdout",
     "output_type": "stream",
     "text": [
      "Mode =\t\t3D\n",
      "Zoom =\t\t-1.0\n",
      "Tilt =\t\t0.0\n",
      "Heading = \t0.0\n"
     ]
    }
   ],
   "source": [
    "print_map_info(usa_map)"
   ]
  },
  {
   "cell_type": "markdown",
   "metadata": {},
   "source": [
    "### Callbacks"
   ]
  },
  {
   "cell_type": "code",
   "execution_count": 17,
   "metadata": {},
   "outputs": [
    {
     "data": {
      "application/vnd.jupyter.widget-view+json": {
       "model_id": "f8750948ac3e411b9f6c397b610095f6",
       "version_major": 2,
       "version_minor": 0
      },
      "text/plain": [
       "MapView(layout=Layout(height='400px', width='100%'), zoom=16.0)"
      ]
     },
     "metadata": {},
     "output_type": "display_data"
    },
    {
     "data": {
      "text/html": [
       "<div class=\"map-static-img-preview-3a70a382-9b72-49f9-a3aa-eef927bf9cbe\"><img src=\"\"></img></div>"
      ],
      "text/plain": [
       "<IPython.core.display.HTML object>"
      ]
     },
     "metadata": {},
     "output_type": "display_data"
    },
    {
     "name": "stdout",
     "output_type": "stream",
     "text": [
      "Petco Park\n"
     ]
    }
   ],
   "source": [
    "from arcgis.gis import GIS\n",
    "import arcgis.geocoding as geocoding\n",
    "\n",
    "callback_map = gis.map('San Diego convention center, San Diego, CA', 16)\n",
    "\n",
    "def find_addr(callback_map, g):\n",
    "    try:\n",
    "        callback_map.draw(g)\n",
    "        geocoded = geocoding.reverse_geocode(g)\n",
    "        print(geocoded['address']['Match_addr'])\n",
    "    except:\n",
    "        print(\"Couldn't match address. Try another place...\")\n",
    "\n",
    "callback_map.on_click(find_addr)\n",
    "callback_map"
   ]
  },
  {
   "cell_type": "markdown",
   "metadata": {},
   "source": [
    "### 3D Feature Layers\n",
    "\n",
    "Let's create a new map of Zion National Park in Utah.\n",
    "3D mode will show the elevation of the many canyons, rides, and elevation changes.\n",
    "It will even cast shadows."
   ]
  },
  {
   "cell_type": "code",
   "execution_count": 18,
   "metadata": {},
   "outputs": [
    {
     "data": {
      "application/vnd.jupyter.widget-view+json": {
       "model_id": "21efde92a81d423d88649140b7902fc7",
       "version_major": 2,
       "version_minor": 0
      },
      "text/plain": [
       "MapView(heading=180.0, layout=Layout(height='400px', width='100%'), mode='3D', tilt=40.0, zoom=15.0)"
      ]
     },
     "metadata": {},
     "output_type": "display_data"
    },
    {
     "data": {
      "text/html": [
       "<div class=\"map-static-img-preview-b0d7232e-117e-4cc3-97dd-cd811a71331c\"><img src=\"\"></img></div>"
      ],
      "text/plain": [
       "<IPython.core.display.HTML object>"
      ]
     },
     "metadata": {},
     "output_type": "display_data"
    }
   ],
   "source": [
    "from arcgis.gis import GIS\n",
    "zion_map = gis.map(\"Angel's Landing UT\", 15)\n",
    "zion_map.mode = \"3D\"\n",
    "zion_map.tilt = 40\n",
    "zion_map.heading = 180\n",
    "\n",
    "zion_map"
   ]
  },
  {
   "cell_type": "code",
   "execution_count": 19,
   "metadata": {},
   "outputs": [],
   "source": [
    "trails_layer = agol_gis.content.get('dd0889d7ccd340dd876dac12184e99f9').layers[0]\n",
    "zion_map.add_layer(trails_layer)"
   ]
  },
  {
   "cell_type": "markdown",
   "metadata": {},
   "source": [
    "### Autocasting"
   ]
  },
  {
   "cell_type": "code",
   "execution_count": 20,
   "metadata": {},
   "outputs": [],
   "source": [
    "symbol = {\"type\": \"line-3d\", # JS type of new LineSymbol3D()\n",
    "         \"symbolLayers\": [{\n",
    "             \"type\": \"path\", # JS type of new PathSymbol3DLayer()\n",
    "             \"size\": 20, # 20 meters in diameter\n",
    "             \"material\": {\n",
    "                 \"color\": \"#0083ff\" # The hex color mode\n",
    "             }\n",
    "         }]\n",
    "}\n",
    "\n",
    "zion_map.add_layer(trails_layer,\n",
    "                   {\"renderer\": \"autocast\", # Tell Python to autocast JS types\n",
    "                   \"type\": \"simple\", # JS type of SimpleRenderer()\n",
    "                    \"symbol\": symbol # The symbol we previously defined\n",
    "                   }\n",
    ")"
   ]
  },
  {
   "cell_type": "markdown",
   "metadata": {},
   "source": [
    "### Taking advantage of Autocasting"
   ]
  },
  {
   "cell_type": "code",
   "execution_count": 21,
   "metadata": {},
   "outputs": [
    {
     "data": {
      "application/vnd.jupyter.widget-view+json": {
       "model_id": "8a1e3c94019f4e3a9193321af6b7a26a",
       "version_major": 2,
       "version_minor": 0
      },
      "text/plain": [
       "MapView(layout=Layout(height='400px', width='100%'), zoom=3.0)"
      ]
     },
     "metadata": {},
     "output_type": "display_data"
    },
    {
     "data": {
      "text/html": [
       "<div class=\"map-static-img-preview-09b6e023-c03b-4a34-bf7f-4f655e4c0bc9\"><img src=\"\"></img></div>"
      ],
      "text/plain": [
       "<IPython.core.display.HTML object>"
      ]
     },
     "metadata": {},
     "output_type": "display_data"
    }
   ],
   "source": [
    "from arcgis.features import FeatureLayer\n",
    "anon_gis = GIS()\n",
    "\n",
    "hurricane_layer = FeatureLayer(\n",
    "    url=\"https://sampleserver6.arcgisonline.com/arcgis/rest/services/Hurricanes/MapServer/0\"\n",
    ")\n",
    "hurricane_map = anon_gis.map('Atlantic Ocean', 3)\n",
    "hurricane_map.add_layer(hurricane_layer)\n",
    "hurricane_map"
   ]
  },
  {
   "cell_type": "code",
   "execution_count": null,
   "metadata": {},
   "outputs": [],
   "source": []
  }
 ],
 "metadata": {
  "kernelspec": {
   "display_name": "Python 3",
   "language": "python",
   "name": "python3"
  },
  "language_info": {
   "codemirror_mode": {
    "name": "ipython",
    "version": 3
   },
   "file_extension": ".py",
   "mimetype": "text/x-python",
   "name": "python",
   "nbconvert_exporter": "python",
   "pygments_lexer": "ipython3",
   "version": "3.6.7"
  }
 },
 "nbformat": 4,
 "nbformat_minor": 2
}
