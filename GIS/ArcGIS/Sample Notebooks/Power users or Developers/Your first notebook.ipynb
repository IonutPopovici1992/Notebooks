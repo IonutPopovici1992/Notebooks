{
 "cells": [
  {
   "cell_type": "code",
   "execution_count": 1,
   "metadata": {},
   "outputs": [],
   "source": [
    "from arcgis.gis import GIS"
   ]
  },
  {
   "cell_type": "code",
   "execution_count": 2,
   "metadata": {},
   "outputs": [],
   "source": [
    "gis = GIS()"
   ]
  },
  {
   "cell_type": "code",
   "execution_count": 3,
   "metadata": {},
   "outputs": [],
   "source": [
    "public_content = gis.content.search(\"Fire\", item_type=\"Feature Layer\", max_items=5)"
   ]
  },
  {
   "cell_type": "code",
   "execution_count": 4,
   "metadata": {},
   "outputs": [
    {
     "data": {
      "text/plain": [
       "[<Item title:\"Energy Consumption and Greenhouse Gas Emissions\" type:Feature Layer Collection owner:BramptonMaps>,\n",
       " <Item title:\"Social Vulnerability 2010\" type:Feature Layer Collection owner:AtlasPublisher>,\n",
       " <Item title:\"Intact Forest Landscapes (2000)\" type:Feature Layer Collection owner:GlobalForestWatch>,\n",
       " <Item title:\"FRES CAD Calls: 2017\" type:Feature Layer Collection owner:SCOpenData>,\n",
       " <Item title:\"WRI_BeforeAndAfterPhotos\" type:Feature Layer Collection owner:FireFFSL>]"
      ]
     },
     "execution_count": 4,
     "metadata": {},
     "output_type": "execute_result"
    }
   ],
   "source": [
    "public_content"
   ]
  },
  {
   "cell_type": "code",
   "execution_count": 5,
   "metadata": {},
   "outputs": [
    {
     "data": {
      "text/html": [
       "<div class=\"item_container\" style=\"height: auto; overflow: hidden; border: 1px solid #cfcfcf; border-radius: 2px; background: #f6fafa; line-height: 1.21429em; padding: 10px;\">\n",
       "                    <div class=\"item_left\" style=\"width: 210px; float: left;\">\n",
       "                       <a href='https://www.arcgis.com/home/item.html?id=a7ae04db763c434f8834e5e7c81f6c67' target='_blank'>\n",
       "                        <img src='https://www.arcgis.com/sharing/rest//content/items/a7ae04db763c434f8834e5e7c81f6c67/info/thumbnail/thumbnail.jpeg' class=\"itemThumbnail\">\n",
       "                       </a>\n",
       "                    </div>\n",
       "\n",
       "                    <div class=\"item_right\"     style=\"float: none; width: auto; overflow: hidden;\">\n",
       "                        <a href='https://www.arcgis.com/home/item.html?id=a7ae04db763c434f8834e5e7c81f6c67' target='_blank'><b>Energy Consumption and Greenhouse Gas Emissions</b>\n",
       "                        </a>\n",
       "                        <br/>City facilities and their energy consumption and greenhouse gas emissions.<img src='https://www.arcgis.com/home/js/jsapi/esri/css/images/item_type_icons/featureshosted16.png' style=\"vertical-align:middle;\">Feature Layer Collection by BramptonMaps\n",
       "                        <br/>Last Modified: January 29, 2019\n",
       "                        <br/>0 comments, 1,899 views\n",
       "                    </div>\n",
       "                </div>\n",
       "                "
      ],
      "text/plain": [
       "<Item title:\"Energy Consumption and Greenhouse Gas Emissions\" type:Feature Layer Collection owner:BramptonMaps>"
      ]
     },
     "metadata": {},
     "output_type": "display_data"
    },
    {
     "data": {
      "text/html": [
       "<div class=\"item_container\" style=\"height: auto; overflow: hidden; border: 1px solid #cfcfcf; border-radius: 2px; background: #f6fafa; line-height: 1.21429em; padding: 10px;\">\n",
       "                    <div class=\"item_left\" style=\"width: 210px; float: left;\">\n",
       "                       <a href='https://www.arcgis.com/home/item.html?id=eee333118bd740268ba1cad0b78f83d6' target='_blank'>\n",
       "                        <img src='https://www.arcgis.com/sharing/rest//content/items/eee333118bd740268ba1cad0b78f83d6/info/thumbnail/ago_downloaded2.png' class=\"itemThumbnail\">\n",
       "                       </a>\n",
       "                    </div>\n",
       "\n",
       "                    <div class=\"item_right\"     style=\"float: none; width: auto; overflow: hidden;\">\n",
       "                        <a href='https://www.arcgis.com/home/item.html?id=eee333118bd740268ba1cad0b78f83d6' target='_blank'><b>Social Vulnerability 2010</b>\n",
       "                        </a>\n",
       "                        <br/>This map shows a simple summary of social vulnerability of populations in the United States.<img src='https://www.arcgis.com/home/js/jsapi/esri/css/images/item_type_icons/featureshosted16.png' style=\"vertical-align:middle;\">Feature Layer Collection by AtlasPublisher\n",
       "                        <br/>Last Modified: July 19, 2018\n",
       "                        <br/>0 comments, 294,228 views\n",
       "                    </div>\n",
       "                </div>\n",
       "                "
      ],
      "text/plain": [
       "<Item title:\"Social Vulnerability 2010\" type:Feature Layer Collection owner:AtlasPublisher>"
      ]
     },
     "metadata": {},
     "output_type": "display_data"
    },
    {
     "data": {
      "text/html": [
       "<div class=\"item_container\" style=\"height: auto; overflow: hidden; border: 1px solid #cfcfcf; border-radius: 2px; background: #f6fafa; line-height: 1.21429em; padding: 10px;\">\n",
       "                    <div class=\"item_left\" style=\"width: 210px; float: left;\">\n",
       "                       <a href='https://www.arcgis.com/home/item.html?id=5a811508e1ab4ddbb79f7f0753d7d2d7' target='_blank'>\n",
       "                        <img src='https://www.arcgis.com/sharing/rest//content/items/5a811508e1ab4ddbb79f7f0753d7d2d7/info/thumbnail/ago_downloaded.png' class=\"itemThumbnail\">\n",
       "                       </a>\n",
       "                    </div>\n",
       "\n",
       "                    <div class=\"item_right\"     style=\"float: none; width: auto; overflow: hidden;\">\n",
       "                        <a href='https://www.arcgis.com/home/item.html?id=5a811508e1ab4ddbb79f7f0753d7d2d7' target='_blank'><b>Intact Forest Landscapes (2000)</b>\n",
       "                        </a>\n",
       "                        <br/>Identifies the world’s last remaining unfragmented forest landscapes, large enough to retain all native biodiversity and showing no signs of human alteration as of the year 2016. This layer also shows the reduction in the extent of Intact Forest Landscapes from 2000 to 2016.<img src='https://www.arcgis.com/home/js/jsapi/esri/css/images/item_type_icons/featureshosted16.png' style=\"vertical-align:middle;\">Feature Layer Collection by GlobalForestWatch\n",
       "                        <br/>Last Modified: April 02, 2019\n",
       "                        <br/>0 comments, 3,906 views\n",
       "                    </div>\n",
       "                </div>\n",
       "                "
      ],
      "text/plain": [
       "<Item title:\"Intact Forest Landscapes (2000)\" type:Feature Layer Collection owner:GlobalForestWatch>"
      ]
     },
     "metadata": {},
     "output_type": "display_data"
    },
    {
     "data": {
      "text/html": [
       "<div class=\"item_container\" style=\"height: auto; overflow: hidden; border: 1px solid #cfcfcf; border-radius: 2px; background: #f6fafa; line-height: 1.21429em; padding: 10px;\">\n",
       "                    <div class=\"item_left\" style=\"width: 210px; float: left;\">\n",
       "                       <a href='https://www.arcgis.com/home/item.html?id=56a6f5b5038044bd8f2465e418d49ada' target='_blank'>\n",
       "                        <img src='https://www.arcgis.com/sharing/rest//content/items/56a6f5b5038044bd8f2465e418d49ada/info/thumbnail/ago_downloaded.gif' class=\"itemThumbnail\">\n",
       "                       </a>\n",
       "                    </div>\n",
       "\n",
       "                    <div class=\"item_right\"     style=\"float: none; width: auto; overflow: hidden;\">\n",
       "                        <a href='https://www.arcgis.com/home/item.html?id=56a6f5b5038044bd8f2465e418d49ada' target='_blank'><b>FRES CAD Calls: 2017</b>\n",
       "                        </a>\n",
       "                        <br/><img src='https://www.arcgis.com/home/js/jsapi/esri/css/images/item_type_icons/featureshosted16.png' style=\"vertical-align:middle;\">Feature Layer Collection by SCOpenData\n",
       "                        <br/>Last Modified: June 13, 2018\n",
       "                        <br/>0 comments, 14 views\n",
       "                    </div>\n",
       "                </div>\n",
       "                "
      ],
      "text/plain": [
       "<Item title:\"FRES CAD Calls: 2017\" type:Feature Layer Collection owner:SCOpenData>"
      ]
     },
     "metadata": {},
     "output_type": "display_data"
    },
    {
     "data": {
      "text/html": [
       "<div class=\"item_container\" style=\"height: auto; overflow: hidden; border: 1px solid #cfcfcf; border-radius: 2px; background: #f6fafa; line-height: 1.21429em; padding: 10px;\">\n",
       "                    <div class=\"item_left\" style=\"width: 210px; float: left;\">\n",
       "                       <a href='https://www.arcgis.com/home/item.html?id=8c79338b862843afb99923fe8572c939' target='_blank'>\n",
       "                        <img src='https://www.arcgis.com/sharing/rest//content/items/8c79338b862843afb99923fe8572c939/info/thumbnail/SkitzyAfter.jpg' class=\"itemThumbnail\">\n",
       "                       </a>\n",
       "                    </div>\n",
       "\n",
       "                    <div class=\"item_right\"     style=\"float: none; width: auto; overflow: hidden;\">\n",
       "                        <a href='https://www.arcgis.com/home/item.html?id=8c79338b862843afb99923fe8572c939' target='_blank'><b>WRI_BeforeAndAfterPhotos</b>\n",
       "                        </a>\n",
       "                        <br/>WRI Projects with Before and After Photos<img src='https://www.arcgis.com/home/js/jsapi/esri/css/images/item_type_icons/featureshosted16.png' style=\"vertical-align:middle;\">Feature Layer Collection by FireFFSL\n",
       "                        <br/>Last Modified: January 24, 2018\n",
       "                        <br/>0 comments, 9,489 views\n",
       "                    </div>\n",
       "                </div>\n",
       "                "
      ],
      "text/plain": [
       "<Item title:\"WRI_BeforeAndAfterPhotos\" type:Feature Layer Collection owner:FireFFSL>"
      ]
     },
     "metadata": {},
     "output_type": "display_data"
    }
   ],
   "source": [
    "from IPython.display import display\n",
    "for item in public_content:\n",
    "    display(item)"
   ]
  },
  {
   "cell_type": "code",
   "execution_count": 6,
   "metadata": {},
   "outputs": [
    {
     "data": {
      "application/vnd.jupyter.widget-view+json": {
       "model_id": "a7f85ea14d004ef88c7d470987086889",
       "version_major": 2,
       "version_minor": 0
      },
      "text/plain": [
       "MapView(layout=Layout(height='400px', width='100%'))"
      ]
     },
     "metadata": {},
     "output_type": "display_data"
    },
    {
     "data": {
      "text/html": [
       "<div class=\"map-static-img-preview-f161b5e6-ecea-4849-b6ad-18df3e2fc984\"><img src=\"\"></img></div>"
      ],
      "text/plain": [
       "<IPython.core.display.HTML object>"
      ]
     },
     "metadata": {},
     "output_type": "display_data"
    }
   ],
   "source": [
    "map1 = gis.map('Collier County, FL')\n",
    "map1"
   ]
  },
  {
   "cell_type": "code",
   "execution_count": 7,
   "metadata": {},
   "outputs": [],
   "source": [
    "# get the first item\n",
    "fire = public_content[0]\n",
    "\n",
    "# add to map\n",
    "map1.add_layer(fire)"
   ]
  },
  {
   "cell_type": "code",
   "execution_count": 8,
   "metadata": {},
   "outputs": [
    {
     "data": {
      "application/vnd.jupyter.widget-view+json": {
       "model_id": "dbe28e1e3d944080a4818714ef2b6393",
       "version_major": 2,
       "version_minor": 0
      },
      "text/plain": [
       "MapView(layout=Layout(height='400px', width='100%'))"
      ]
     },
     "metadata": {},
     "output_type": "display_data"
    },
    {
     "data": {
      "text/html": [
       "<div class=\"map-static-img-preview-6af6044a-9880-44c9-b7cc-d9f216f42112\"><img src=\"\"></img></div>"
      ],
      "text/plain": [
       "<IPython.core.display.HTML object>"
      ]
     },
     "metadata": {},
     "output_type": "display_data"
    }
   ],
   "source": [
    "map2 = gis.map('CA, USA')\n",
    "map2"
   ]
  },
  {
   "cell_type": "code",
   "execution_count": 9,
   "metadata": {},
   "outputs": [
    {
     "data": {
      "application/vnd.jupyter.widget-view+json": {
       "model_id": "c060673886664db9b17f2cf4c0c66b25",
       "version_major": 2,
       "version_minor": 0
      },
      "text/plain": [
       "MapView(layout=Layout(height='400px', width='100%'))"
      ]
     },
     "metadata": {},
     "output_type": "display_data"
    },
    {
     "data": {
      "text/html": [
       "<div class=\"map-static-img-preview-f47bf757-ee44-4144-a40a-1f20ca6debd0\"><img src=\"\"></img></div>"
      ],
      "text/plain": [
       "<IPython.core.display.HTML object>"
      ]
     },
     "metadata": {},
     "output_type": "display_data"
    }
   ],
   "source": [
    "map3 = gis.map('WY, USA')\n",
    "map3"
   ]
  },
  {
   "cell_type": "code",
   "execution_count": 10,
   "metadata": {},
   "outputs": [
    {
     "data": {
      "application/vnd.jupyter.widget-view+json": {
       "model_id": "4ab9f17d63754e33a912c13209e2373d",
       "version_major": 2,
       "version_minor": 0
      },
      "text/plain": [
       "MapView(layout=Layout(height='400px', width='100%'))"
      ]
     },
     "metadata": {},
     "output_type": "display_data"
    },
    {
     "data": {
      "text/html": [
       "<div class=\"map-static-img-preview-d2cb00e7-d7dc-42a8-81e5-27cfdebd7209\"><img src=\"\"></img></div>"
      ],
      "text/plain": [
       "<IPython.core.display.HTML object>"
      ]
     },
     "metadata": {},
     "output_type": "display_data"
    }
   ],
   "source": [
    "map4 = gis.map('Yellowstone National Park, WY, USA')\n",
    "map4"
   ]
  },
  {
   "cell_type": "code",
   "execution_count": 11,
   "metadata": {},
   "outputs": [
    {
     "data": {
      "text/plain": [
       "'default'"
      ]
     },
     "execution_count": 11,
     "metadata": {},
     "output_type": "execute_result"
    }
   ],
   "source": [
    "map4.basemap"
   ]
  },
  {
   "cell_type": "code",
   "execution_count": 12,
   "metadata": {},
   "outputs": [
    {
     "data": {
      "text/plain": [
       "['dark-gray',\n",
       " 'dark-gray-vector',\n",
       " 'gray',\n",
       " 'gray-vector',\n",
       " 'hybrid',\n",
       " 'national-geographic',\n",
       " 'oceans',\n",
       " 'osm',\n",
       " 'satellite',\n",
       " 'streets',\n",
       " 'streets-navigation-vector',\n",
       " 'streets-night-vector',\n",
       " 'streets-relief-vector',\n",
       " 'streets-vector',\n",
       " 'terrain',\n",
       " 'topo',\n",
       " 'topo-vector']"
      ]
     },
     "execution_count": 12,
     "metadata": {},
     "output_type": "execute_result"
    }
   ],
   "source": [
    "map4.basemaps"
   ]
  },
  {
   "cell_type": "code",
   "execution_count": 13,
   "metadata": {},
   "outputs": [],
   "source": [
    "map4.basemap = 'national-geographic'"
   ]
  },
  {
   "cell_type": "code",
   "execution_count": 14,
   "metadata": {},
   "outputs": [],
   "source": [
    "map4.basemap = 'satellite'"
   ]
  },
  {
   "cell_type": "code",
   "execution_count": 15,
   "metadata": {},
   "outputs": [],
   "source": [
    "map4.basemap = 'default'"
   ]
  },
  {
   "cell_type": "code",
   "execution_count": 16,
   "metadata": {},
   "outputs": [
    {
     "data": {
      "application/vnd.jupyter.widget-view+json": {
       "model_id": "880b153c51dd4d059f5014092433bdb6",
       "version_major": 2,
       "version_minor": 0
      },
      "text/plain": [
       "MapView(layout=Layout(height='400px', width='100%'))"
      ]
     },
     "metadata": {},
     "output_type": "display_data"
    },
    {
     "data": {
      "text/html": [
       "<div class=\"map-static-img-preview-8617fa61-9af7-4782-90e3-9906971c7470\"><img src=\"\"></img></div>"
      ],
      "text/plain": [
       "<IPython.core.display.HTML object>"
      ]
     },
     "metadata": {},
     "output_type": "display_data"
    }
   ],
   "source": [
    "map5 = gis.map('Yosemite National Park, CA, USA')\n",
    "map5"
   ]
  },
  {
   "cell_type": "code",
   "execution_count": null,
   "metadata": {},
   "outputs": [],
   "source": []
  }
 ],
 "metadata": {
  "kernelspec": {
   "display_name": "Python 3",
   "language": "python",
   "name": "python3"
  },
  "language_info": {
   "codemirror_mode": {
    "name": "ipython",
    "version": 3
   },
   "file_extension": ".py",
   "mimetype": "text/x-python",
   "name": "python",
   "nbconvert_exporter": "python",
   "pygments_lexer": "ipython3",
   "version": "3.6.7"
  }
 },
 "nbformat": 4,
 "nbformat_minor": 2
}
