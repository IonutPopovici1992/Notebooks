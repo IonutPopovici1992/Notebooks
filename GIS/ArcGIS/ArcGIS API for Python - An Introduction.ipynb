{
 "cells": [
  {
   "cell_type": "code",
   "execution_count": 1,
   "metadata": {},
   "outputs": [],
   "source": [
    "from arcgis.gis import GIS\n",
    "gis = GIS()"
   ]
  },
  {
   "cell_type": "code",
   "execution_count": 2,
   "metadata": {},
   "outputs": [
    {
     "data": {
      "application/vnd.jupyter.widget-view+json": {
       "model_id": "bfcbf6c67b244f469aadd245592e60f6",
       "version_major": 2,
       "version_minor": 0
      },
      "text/plain": [
       "MapView(layout=Layout(height='400px', width='100%'))"
      ]
     },
     "metadata": {},
     "output_type": "display_data"
    },
    {
     "data": {
      "text/html": [
       "<div class=\"map-static-img-preview-374b0a43-ed5c-4ddf-a02f-9d12de50b8da\"><img src=\"\"></img></div>"
      ],
      "text/plain": [
       "<IPython.core.display.HTML object>"
      ]
     },
     "metadata": {},
     "output_type": "display_data"
    }
   ],
   "source": [
    "map = gis.map(\"San Diego, CA\")\n",
    "map"
   ]
  },
  {
   "cell_type": "code",
   "execution_count": 3,
   "metadata": {},
   "outputs": [],
   "source": [
    "map.center = [32.71, -117.15]"
   ]
  },
  {
   "cell_type": "code",
   "execution_count": 4,
   "metadata": {},
   "outputs": [],
   "source": [
    "map.zoom = 13"
   ]
  },
  {
   "cell_type": "code",
   "execution_count": 5,
   "metadata": {},
   "outputs": [
    {
     "data": {
      "text/plain": [
       "['dark-gray',\n",
       " 'dark-gray-vector',\n",
       " 'gray',\n",
       " 'gray-vector',\n",
       " 'hybrid',\n",
       " 'national-geographic',\n",
       " 'oceans',\n",
       " 'osm',\n",
       " 'satellite',\n",
       " 'streets',\n",
       " 'streets-navigation-vector',\n",
       " 'streets-night-vector',\n",
       " 'streets-relief-vector',\n",
       " 'streets-vector',\n",
       " 'terrain',\n",
       " 'topo',\n",
       " 'topo-vector']"
      ]
     },
     "execution_count": 5,
     "metadata": {},
     "output_type": "execute_result"
    }
   ],
   "source": [
    "map.basemaps"
   ]
  },
  {
   "cell_type": "code",
   "execution_count": 6,
   "metadata": {},
   "outputs": [],
   "source": [
    "map.basemap = 'streets-night-vector'"
   ]
  },
  {
   "cell_type": "code",
   "execution_count": 7,
   "metadata": {},
   "outputs": [
    {
     "data": {
      "text/plain": [
       "[<Item title:\"Where to Eat San Diego (ABC Database)\" type:Feature Layer Collection owner:ichivite_melbourne>,\n",
       " <Item title:\"Where to eat San Diego (FS)\" type:Feature Layer Collection owner:ichivite_melbourne>,\n",
       " <Item title:\"San Diego Restaurants\" type:Feature Layer Collection owner:ichivite_melbourne>]"
      ]
     },
     "execution_count": 7,
     "metadata": {},
     "output_type": "execute_result"
    }
   ],
   "source": [
    "rest_content = gis.content.search(\"San Diego Restaurants\", item_type=\"Feature Layer\", max_items=5)\n",
    "rest_content"
   ]
  },
  {
   "cell_type": "code",
   "execution_count": 8,
   "metadata": {},
   "outputs": [
    {
     "data": {
      "text/html": [
       "<div class=\"item_container\" style=\"height: auto; overflow: hidden; border: 1px solid #cfcfcf; border-radius: 2px; background: #f6fafa; line-height: 1.21429em; padding: 10px;\">\n",
       "                    <div class=\"item_left\" style=\"width: 210px; float: left;\">\n",
       "                       <a href='https://www.arcgis.com/home/item.html?id=4bd12f5a6e6e468594baf3b26a12b52e' target='_blank'>\n",
       "                        <img src='https://www.arcgis.com/sharing/rest//content/items/4bd12f5a6e6e468594baf3b26a12b52e/info/thumbnail/thumbnail.png' class=\"itemThumbnail\">\n",
       "                       </a>\n",
       "                    </div>\n",
       "\n",
       "                    <div class=\"item_right\"     style=\"float: none; width: auto; overflow: hidden;\">\n",
       "                        <a href='https://www.arcgis.com/home/item.html?id=4bd12f5a6e6e468594baf3b26a12b52e' target='_blank'><b>Where to Eat San Diego (ABC Database)</b>\n",
       "                        </a>\n",
       "                        <br/>Restaurants, Bars in San Diego from the San Diego ABC Database<img src='https://www.arcgis.com/home/js/jsapi/esri/css/images/item_type_icons/featureshosted16.png' style=\"vertical-align:middle;\">Feature Layer Collection by ichivite_melbourne\n",
       "                        <br/>Last Modified: July 09, 2017\n",
       "                        <br/>0 comments, 164 views\n",
       "                    </div>\n",
       "                </div>\n",
       "                "
      ],
      "text/plain": [
       "<Item title:\"Where to Eat San Diego (ABC Database)\" type:Feature Layer Collection owner:ichivite_melbourne>"
      ]
     },
     "metadata": {},
     "output_type": "display_data"
    },
    {
     "data": {
      "text/html": [
       "<div class=\"item_container\" style=\"height: auto; overflow: hidden; border: 1px solid #cfcfcf; border-radius: 2px; background: #f6fafa; line-height: 1.21429em; padding: 10px;\">\n",
       "                    <div class=\"item_left\" style=\"width: 210px; float: left;\">\n",
       "                       <a href='https://www.arcgis.com/home/item.html?id=ba6ff8b6fbb24eaaa6b660a34b67565f' target='_blank'>\n",
       "                        <img src='https://www.arcgis.com/sharing/rest//content/items/ba6ff8b6fbb24eaaa6b660a34b67565f/info/thumbnail/thumbnail.png' class=\"itemThumbnail\">\n",
       "                       </a>\n",
       "                    </div>\n",
       "\n",
       "                    <div class=\"item_right\"     style=\"float: none; width: auto; overflow: hidden;\">\n",
       "                        <a href='https://www.arcgis.com/home/item.html?id=ba6ff8b6fbb24eaaa6b660a34b67565f' target='_blank'><b>Where to eat San Diego (FS)</b>\n",
       "                        </a>\n",
       "                        <br/>Restaurants, Bars in San Diego from the San Diego ABC Database<img src='https://www.arcgis.com/home/js/jsapi/esri/css/images/item_type_icons/featureshosted16.png' style=\"vertical-align:middle;\">Feature Layer Collection by ichivite_melbourne\n",
       "                        <br/>Last Modified: June 29, 2017\n",
       "                        <br/>0 comments, 180 views\n",
       "                    </div>\n",
       "                </div>\n",
       "                "
      ],
      "text/plain": [
       "<Item title:\"Where to eat San Diego (FS)\" type:Feature Layer Collection owner:ichivite_melbourne>"
      ]
     },
     "metadata": {},
     "output_type": "display_data"
    },
    {
     "data": {
      "text/html": [
       "<div class=\"item_container\" style=\"height: auto; overflow: hidden; border: 1px solid #cfcfcf; border-radius: 2px; background: #f6fafa; line-height: 1.21429em; padding: 10px;\">\n",
       "                    <div class=\"item_left\" style=\"width: 210px; float: left;\">\n",
       "                       <a href='https://www.arcgis.com/home/item.html?id=0dcb32ee92e94032b8a0a71ce1acad78' target='_blank'>\n",
       "                        <img src='https://www.arcgis.com/sharing/rest//content/items/0dcb32ee92e94032b8a0a71ce1acad78/info/thumbnail/San_Diego_Restaurants.png' class=\"itemThumbnail\">\n",
       "                       </a>\n",
       "                    </div>\n",
       "\n",
       "                    <div class=\"item_right\"     style=\"float: none; width: auto; overflow: hidden;\">\n",
       "                        <a href='https://www.arcgis.com/home/item.html?id=0dcb32ee92e94032b8a0a71ce1acad78' target='_blank'><b>San Diego Restaurants</b>\n",
       "                        </a>\n",
       "                        <br/><img src='https://www.arcgis.com/home/js/jsapi/esri/css/images/item_type_icons/featureshosted16.png' style=\"vertical-align:middle;\">Feature Layer Collection by ichivite_melbourne\n",
       "                        <br/>Last Modified: June 29, 2017\n",
       "                        <br/>0 comments, 34 views\n",
       "                    </div>\n",
       "                </div>\n",
       "                "
      ],
      "text/plain": [
       "<Item title:\"San Diego Restaurants\" type:Feature Layer Collection owner:ichivite_melbourne>"
      ]
     },
     "metadata": {},
     "output_type": "display_data"
    }
   ],
   "source": [
    "from IPython.display import display\n",
    "for item in rest_content:\n",
    "    display(item)"
   ]
  },
  {
   "cell_type": "code",
   "execution_count": 9,
   "metadata": {},
   "outputs": [],
   "source": [
    "rest = rest_content[0]\n",
    "map.add_layer(rest)"
   ]
  },
  {
   "cell_type": "code",
   "execution_count": 10,
   "metadata": {},
   "outputs": [],
   "source": [
    "from arcgis.geocoding import geocode"
   ]
  },
  {
   "cell_type": "code",
   "execution_count": 11,
   "metadata": {},
   "outputs": [
    {
     "data": {
      "application/vnd.jupyter.widget-view+json": {
       "model_id": "15c69ef4dede4abc9a4ac09aeba5d3fa",
       "version_major": 2,
       "version_minor": 0
      },
      "text/plain": [
       "MapView(layout=Layout(height='400px', width='100%'))"
      ]
     },
     "metadata": {},
     "output_type": "display_data"
    },
    {
     "data": {
      "text/html": [
       "<div class=\"map-static-img-preview-5c8a9c40-d67e-4c9b-80fc-f6e88a5dac4a\"><img src=\"\"></img></div>"
      ],
      "text/plain": [
       "<IPython.core.display.HTML object>"
      ]
     },
     "metadata": {},
     "output_type": "display_data"
    }
   ],
   "source": [
    "downtownsd = geocode(\"Gaslamp, San Diego, CA\")[0]\n",
    "map1 = gis.map(downtownsd)\n",
    "map1"
   ]
  },
  {
   "cell_type": "code",
   "execution_count": 12,
   "metadata": {},
   "outputs": [],
   "source": [
    "restaurants = geocode(None, downtownsd['extent'], category=\"Mexican Food\", max_locations=100)\n",
    "for restaurant in restaurants:\n",
    "    popup = {\n",
    "        \"title\": restaurant['attributes']['PlaceName'],\n",
    "        \"content\": \"Phone: \" + restaurant['attributes']['Phone'] + \"<br>\" \"Address: \" + restaurant['attributes']['Place_addr']\n",
    "    }\n",
    "\n",
    "map1.draw(restaurant['location'], popup)"
   ]
  },
  {
   "cell_type": "code",
   "execution_count": 13,
   "metadata": {},
   "outputs": [
    {
     "data": {
      "text/plain": [
       "{'Loc_name': 'World',\n",
       " 'Status': 'T',\n",
       " 'Score': 100,\n",
       " 'Match_addr': 'La Casita Mexican Restaurant',\n",
       " 'LongLabel': 'La Casita Mexican Restaurant, 1247 C St, San Diego, CA, 92101, USA',\n",
       " 'ShortLabel': 'La Casita Mexican Restaurant',\n",
       " 'Addr_type': 'POI',\n",
       " 'Type': 'Mexican Food',\n",
       " 'PlaceName': 'La Casita Mexican Restaurant',\n",
       " 'Place_addr': '1247 C St, San Diego, California, 92101',\n",
       " 'Phone': '(619) 531-0044',\n",
       " 'URL': '',\n",
       " 'Rank': 19,\n",
       " 'AddBldg': '',\n",
       " 'AddNum': '1247',\n",
       " 'AddNumFrom': '',\n",
       " 'AddNumTo': '',\n",
       " 'AddRange': '',\n",
       " 'Side': 'L',\n",
       " 'StPreDir': '',\n",
       " 'StPreType': '',\n",
       " 'StName': 'C',\n",
       " 'StType': 'St',\n",
       " 'StDir': '',\n",
       " 'BldgType': '',\n",
       " 'BldgName': '',\n",
       " 'LevelType': '',\n",
       " 'LevelName': '',\n",
       " 'UnitType': '',\n",
       " 'UnitName': '',\n",
       " 'SubAddr': '',\n",
       " 'StAddr': '1247 C St',\n",
       " 'Block': '',\n",
       " 'Sector': '',\n",
       " 'Nbrhd': 'Core-Columbia',\n",
       " 'District': '',\n",
       " 'City': 'San Diego',\n",
       " 'MetroArea': 'San Diego Metro Area',\n",
       " 'Subregion': 'San Diego County',\n",
       " 'Region': 'California',\n",
       " 'RegionAbbr': 'CA',\n",
       " 'Territory': '',\n",
       " 'Zone': '',\n",
       " 'Postal': '92101',\n",
       " 'PostalExt': '5614',\n",
       " 'Country': 'USA',\n",
       " 'LangCode': 'ENG',\n",
       " 'Distance': 0,\n",
       " 'X': -117.15316002553521,\n",
       " 'Y': 32.71676999942315,\n",
       " 'DisplayX': -117.15316999999999,\n",
       " 'DisplayY': 32.716540000000066,\n",
       " 'Xmin': -117.15816999999998,\n",
       " 'Xmax': -117.14817,\n",
       " 'Ymin': 32.71154000000006,\n",
       " 'Ymax': 32.72154000000007,\n",
       " 'ExInfo': ''}"
      ]
     },
     "execution_count": 13,
     "metadata": {},
     "output_type": "execute_result"
    }
   ],
   "source": [
    "restaurants[0]['attributes']"
   ]
  },
  {
   "cell_type": "code",
   "execution_count": null,
   "metadata": {},
   "outputs": [],
   "source": []
  }
 ],
 "metadata": {
  "kernelspec": {
   "display_name": "Python 3",
   "language": "python",
   "name": "python3"
  },
  "language_info": {
   "codemirror_mode": {
    "name": "ipython",
    "version": 3
   },
   "file_extension": ".py",
   "mimetype": "text/x-python",
   "name": "python",
   "nbconvert_exporter": "python",
   "pygments_lexer": "ipython3",
   "version": "3.6.7"
  }
 },
 "nbformat": 4,
 "nbformat_minor": 2
}
