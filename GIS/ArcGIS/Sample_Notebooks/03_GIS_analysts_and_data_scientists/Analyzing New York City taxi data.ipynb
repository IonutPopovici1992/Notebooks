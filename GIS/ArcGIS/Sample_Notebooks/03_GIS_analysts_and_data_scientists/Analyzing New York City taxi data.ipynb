{
 "cells": [
  {
   "cell_type": "markdown",
   "metadata": {},
   "source": [
    "# Analyzing New York City taxi data using big data tools"
   ]
  },
  {
   "cell_type": "markdown",
   "metadata": {},
   "source": [
    "## The NYC taxi data"
   ]
  },
  {
   "cell_type": "code",
   "execution_count": 1,
   "metadata": {},
   "outputs": [
    {
     "data": {
      "text/html": [
       "<div class=\"item_container\" style=\"height: auto; overflow: hidden; border: 1px solid #cfcfcf; border-radius: 2px; background: #f6fafa; line-height: 1.21429em; padding: 10px;\">\n",
       "                    <div class=\"item_left\" style=\"width: 210px; float: left;\">\n",
       "                       <a href='https://www.arcgis.com/home/item.html?id=fc1e5ebb323a401b825742314d76d1db' target='_blank'>\n",
       "                        <img src='https://www.arcgis.com/sharing/rest//content/items/fc1e5ebb323a401b825742314d76d1db/info/thumbnail/ago_downloaded.png' class=\"itemThumbnail\">\n",
       "                       </a>\n",
       "                    </div>\n",
       "\n",
       "                    <div class=\"item_right\"     style=\"float: none; width: auto; overflow: hidden;\">\n",
       "                        <a href='https://www.arcgis.com/home/item.html?id=fc1e5ebb323a401b825742314d76d1db' target='_blank'><b>NYC taxi subset</b>\n",
       "                        </a>\n",
       "                        <br/><img src='https://www.arcgis.com/home/js/jsapi/esri/css/images/item_type_icons/featureshosted16.png' style=\"vertical-align:middle;\">Feature Layer Collection by api_data_owner\n",
       "                        <br/>Last Modified: May 17, 2019\n",
       "                        <br/>0 comments, 87 views\n",
       "                    </div>\n",
       "                </div>\n",
       "                "
      ],
      "text/plain": [
       "<Item title:\"NYC taxi subset\" type:Feature Layer Collection owner:api_data_owner>"
      ]
     },
     "execution_count": 1,
     "metadata": {},
     "output_type": "execute_result"
    }
   ],
   "source": [
    "import arcgis\n",
    "from arcgis.gis import GIS\n",
    "\n",
    "ago_gis = GIS()  # Connect to ArcGIS Online as an anonymous user\n",
    "search_subset = ago_gis.content.search(\"NYC_taxi_subset\", item_type = \"Feature Layer\")\n",
    "subset_item = search_subset[0]\n",
    "subset_item"
   ]
  },
  {
   "cell_type": "code",
   "execution_count": 2,
   "metadata": {},
   "outputs": [
    {
     "data": {
      "application/vnd.jupyter.widget-view+json": {
       "model_id": "a11c2d8d56114868ad6979668d464492",
       "version_major": 2,
       "version_minor": 0
      },
      "text/plain": [
       "MapView(layout=Layout(height='400px', width='100%'), zoom=11.0)"
      ]
     },
     "metadata": {},
     "output_type": "display_data"
    },
    {
     "data": {
      "text/html": [
       "<div class=\"map-static-img-preview-731c64e0-9317-4e4b-a144-84f812c85cb3\"><img src=\"\"></img></div>"
      ],
      "text/plain": [
       "<IPython.core.display.HTML object>"
      ]
     },
     "metadata": {},
     "output_type": "display_data"
    }
   ],
   "source": [
    "subset_map = ago_gis.map(\"New York, NY\", zoomlevel=11)\n",
    "subset_map"
   ]
  },
  {
   "cell_type": "code",
   "execution_count": 3,
   "metadata": {},
   "outputs": [],
   "source": [
    "subset_map.add_layer(subset_item)"
   ]
  },
  {
   "cell_type": "code",
   "execution_count": 4,
   "metadata": {},
   "outputs": [
    {
     "data": {
      "text/html": [
       "<div>\n",
       "<style scoped>\n",
       "    .dataframe tbody tr th:only-of-type {\n",
       "        vertical-align: middle;\n",
       "    }\n",
       "\n",
       "    .dataframe tbody tr th {\n",
       "        vertical-align: top;\n",
       "    }\n",
       "\n",
       "    .dataframe thead th {\n",
       "        text-align: right;\n",
       "    }\n",
       "</style>\n",
       "<table border=\"1\" class=\"dataframe\">\n",
       "  <thead>\n",
       "    <tr style=\"text-align: right;\">\n",
       "      <th></th>\n",
       "      <th>VendorID</th>\n",
       "      <th>tpep_pickup_datetime</th>\n",
       "      <th>tpep_dropoff_datetime</th>\n",
       "      <th>passenger_count</th>\n",
       "      <th>trip_distance</th>\n",
       "      <th>pickup_longitude</th>\n",
       "      <th>pickup_latitude</th>\n",
       "      <th>RateCodeID</th>\n",
       "      <th>store_and_fwd_flag</th>\n",
       "      <th>dropoff_longitude</th>\n",
       "      <th>dropoff_latitude</th>\n",
       "      <th>payment_type</th>\n",
       "      <th>fare_amount</th>\n",
       "      <th>extra</th>\n",
       "      <th>mta_tax</th>\n",
       "      <th>tip_amount</th>\n",
       "      <th>tolls_amount</th>\n",
       "      <th>improvement_surcharge</th>\n",
       "      <th>total_amount</th>\n",
       "      <th>ObjectId</th>\n",
       "    </tr>\n",
       "  </thead>\n",
       "  <tbody>\n",
       "    <tr>\n",
       "      <td>0</td>\n",
       "      <td>2</td>\n",
       "      <td>2015-01-02 19:06:46</td>\n",
       "      <td>2015-01-02 19:11:14</td>\n",
       "      <td>1</td>\n",
       "      <td>0.82</td>\n",
       "      <td>-74.005997</td>\n",
       "      <td>40.735241</td>\n",
       "      <td>1</td>\n",
       "      <td>N</td>\n",
       "      <td>-74.009720</td>\n",
       "      <td>40.725990</td>\n",
       "      <td>1</td>\n",
       "      <td>5.0</td>\n",
       "      <td>1</td>\n",
       "      <td>0.5</td>\n",
       "      <td>1.2</td>\n",
       "      <td>0</td>\n",
       "      <td>0.3</td>\n",
       "      <td>8.0</td>\n",
       "      <td>1</td>\n",
       "    </tr>\n",
       "    <tr>\n",
       "      <td>1</td>\n",
       "      <td>2</td>\n",
       "      <td>2015-01-25 13:39:51</td>\n",
       "      <td>2015-01-26 13:24:58</td>\n",
       "      <td>6</td>\n",
       "      <td>5.62</td>\n",
       "      <td>-73.984688</td>\n",
       "      <td>40.748192</td>\n",
       "      <td>1</td>\n",
       "      <td>N</td>\n",
       "      <td>-74.016289</td>\n",
       "      <td>40.704849</td>\n",
       "      <td>2</td>\n",
       "      <td>19.5</td>\n",
       "      <td>0</td>\n",
       "      <td>0.5</td>\n",
       "      <td>0.0</td>\n",
       "      <td>0</td>\n",
       "      <td>0.3</td>\n",
       "      <td>20.3</td>\n",
       "      <td>2</td>\n",
       "    </tr>\n",
       "    <tr>\n",
       "      <td>2</td>\n",
       "      <td>2</td>\n",
       "      <td>2015-01-13 09:10:38</td>\n",
       "      <td>2015-01-13 09:19:40</td>\n",
       "      <td>1</td>\n",
       "      <td>1.99</td>\n",
       "      <td>-73.967827</td>\n",
       "      <td>40.801315</td>\n",
       "      <td>1</td>\n",
       "      <td>N</td>\n",
       "      <td>-73.959618</td>\n",
       "      <td>40.782703</td>\n",
       "      <td>2</td>\n",
       "      <td>9.0</td>\n",
       "      <td>0</td>\n",
       "      <td>0.5</td>\n",
       "      <td>0.0</td>\n",
       "      <td>0</td>\n",
       "      <td>0.3</td>\n",
       "      <td>9.8</td>\n",
       "      <td>3</td>\n",
       "    </tr>\n",
       "    <tr>\n",
       "      <td>3</td>\n",
       "      <td>1</td>\n",
       "      <td>2015-01-06 10:55:08</td>\n",
       "      <td>2015-01-06 11:05:48</td>\n",
       "      <td>1</td>\n",
       "      <td>1.60</td>\n",
       "      <td>-73.967560</td>\n",
       "      <td>40.801228</td>\n",
       "      <td>1</td>\n",
       "      <td>N</td>\n",
       "      <td>-73.952980</td>\n",
       "      <td>40.819118</td>\n",
       "      <td>2</td>\n",
       "      <td>9.0</td>\n",
       "      <td>0</td>\n",
       "      <td>0.5</td>\n",
       "      <td>0.0</td>\n",
       "      <td>0</td>\n",
       "      <td>0.3</td>\n",
       "      <td>9.8</td>\n",
       "      <td>4</td>\n",
       "    </tr>\n",
       "  </tbody>\n",
       "</table>\n",
       "</div>"
      ],
      "text/plain": [
       "   VendorID tpep_pickup_datetime tpep_dropoff_datetime  passenger_count  \\\n",
       "0         2  2015-01-02 19:06:46   2015-01-02 19:11:14                1   \n",
       "1         2  2015-01-25 13:39:51   2015-01-26 13:24:58                6   \n",
       "2         2  2015-01-13 09:10:38   2015-01-13 09:19:40                1   \n",
       "3         1  2015-01-06 10:55:08   2015-01-06 11:05:48                1   \n",
       "\n",
       "   trip_distance  pickup_longitude  pickup_latitude  RateCodeID  \\\n",
       "0           0.82        -74.005997        40.735241           1   \n",
       "1           5.62        -73.984688        40.748192           1   \n",
       "2           1.99        -73.967827        40.801315           1   \n",
       "3           1.60        -73.967560        40.801228           1   \n",
       "\n",
       "  store_and_fwd_flag  dropoff_longitude  dropoff_latitude  payment_type  \\\n",
       "0                  N         -74.009720         40.725990             1   \n",
       "1                  N         -74.016289         40.704849             2   \n",
       "2                  N         -73.959618         40.782703             2   \n",
       "3                  N         -73.952980         40.819118             2   \n",
       "\n",
       "   fare_amount  extra  mta_tax  tip_amount  tolls_amount  \\\n",
       "0          5.0      1      0.5         1.2             0   \n",
       "1         19.5      0      0.5         0.0             0   \n",
       "2          9.0      0      0.5         0.0             0   \n",
       "3          9.0      0      0.5         0.0             0   \n",
       "\n",
       "   improvement_surcharge  total_amount  ObjectId  \n",
       "0                    0.3           8.0         1  \n",
       "1                    0.3          20.3         2  \n",
       "2                    0.3           9.8         3  \n",
       "3                    0.3           9.8         4  "
      ]
     },
     "execution_count": 4,
     "metadata": {},
     "output_type": "execute_result"
    }
   ],
   "source": [
    "subset_feature_layer = subset_item.layers[0]\n",
    "\n",
    "# query the attribute information. Limit to first 5 rows\n",
    "query_result = subset_feature_layer.query(where = 'OBJECTID < 5',\n",
    "                                          out_fields = \"*\", \n",
    "                                          returnGeometry = False)\n",
    "\n",
    "att_data_frame = query_result.sdf  # get as a Pandas dataframe\n",
    "att_data_frame"
   ]
  },
  {
   "cell_type": "markdown",
   "metadata": {},
   "source": [
    "## Searching for big data file shares"
   ]
  },
  {
   "cell_type": "code",
   "execution_count": 5,
   "metadata": {},
   "outputs": [],
   "source": [
    "gis = GIS(\"https://pythonapi.playground.esri.com/portal\", \"arcgis_python\", \"amazing_arcgis_123\")"
   ]
  },
  {
   "cell_type": "code",
   "execution_count": 6,
   "metadata": {},
   "outputs": [
    {
     "data": {
      "text/plain": [
       "True"
      ]
     },
     "execution_count": 6,
     "metadata": {},
     "output_type": "execute_result"
    }
   ],
   "source": [
    "arcgis.geoanalytics.is_supported()"
   ]
  },
  {
   "cell_type": "code",
   "execution_count": 7,
   "metadata": {},
   "outputs": [],
   "source": [
    "datastores = arcgis.geoanalytics.get_datastores()"
   ]
  },
  {
   "cell_type": "code",
   "execution_count": 8,
   "metadata": {},
   "outputs": [
    {
     "data": {
      "text/plain": [
       "[<Datastore title:\"/bigDataFileShares/NYC_taxi_data15\" type:\"bigDataFileShare\">,\n",
       " <Datastore title:\"/bigDataFileShares/all_hurricanes\" type:\"bigDataFileShare\">,\n",
       " <Datastore title:\"/bigDataFileShares/NYCdata\" type:\"bigDataFileShare\">,\n",
       " <Datastore title:\"/bigDataFileShares/hurricanes_1848_1900\" type:\"bigDataFileShare\">,\n",
       " <Datastore title:\"/bigDataFileShares/ServiceCallsOrleans\" type:\"bigDataFileShare\">,\n",
       " <Datastore title:\"/bigDataFileShares/hurricanes_dask_csv\" type:\"bigDataFileShare\">,\n",
       " <Datastore title:\"/bigDataFileShares/hurricanes_dask_shp\" type:\"bigDataFileShare\">]"
      ]
     },
     "execution_count": 8,
     "metadata": {},
     "output_type": "execute_result"
    }
   ],
   "source": [
    "bigdata_fileshares = datastores.search()\n",
    "bigdata_fileshares"
   ]
  },
  {
   "cell_type": "code",
   "execution_count": 9,
   "metadata": {},
   "outputs": [],
   "source": [
    "data_item = bigdata_fileshares[0]"
   ]
  },
  {
   "cell_type": "markdown",
   "metadata": {},
   "source": [
    "## Registering big data file shares"
   ]
  },
  {
   "cell_type": "code",
   "execution_count": null,
   "metadata": {},
   "outputs": [],
   "source": [
    "data_item = datastores.add_bigdata(\"NYCdata\", r\"\\data\")"
   ]
  },
  {
   "cell_type": "code",
   "execution_count": 10,
   "metadata": {},
   "outputs": [
    {
     "data": {
      "text/plain": [
       "{'datasets': [{'name': '2015',\n",
       "   'format': {'quoteChar': '\"',\n",
       "    'fieldDelimiter': ',',\n",
       "    'hasHeaderRow': True,\n",
       "    'encoding': 'UTF-8',\n",
       "    'recordTerminator': '\\n',\n",
       "    'type': 'delimited',\n",
       "    'extension': 'csv'},\n",
       "   'schema': {'fields': [{'name': 'VendorID',\n",
       "      'type': 'esriFieldTypeBigInteger'},\n",
       "     {'name': 'tpep_pickup_datetime', 'type': 'esriFieldTypeString'},\n",
       "     {'name': 'tpep_dropoff_datetime', 'type': 'esriFieldTypeString'},\n",
       "     {'name': 'passenger_count', 'type': 'esriFieldTypeBigInteger'},\n",
       "     {'name': 'trip_distance', 'type': 'esriFieldTypeDouble'},\n",
       "     {'name': 'pickup_longitude', 'type': 'esriFieldTypeDouble'},\n",
       "     {'name': 'pickup_latitude', 'type': 'esriFieldTypeDouble'},\n",
       "     {'name': 'RateCodeID', 'type': 'esriFieldTypeBigInteger'},\n",
       "     {'name': 'store_and_fwd_flag', 'type': 'esriFieldTypeString'},\n",
       "     {'name': 'dropoff_longitude', 'type': 'esriFieldTypeDouble'},\n",
       "     {'name': 'dropoff_latitude', 'type': 'esriFieldTypeDouble'},\n",
       "     {'name': 'payment_type', 'type': 'esriFieldTypeBigInteger'},\n",
       "     {'name': 'fare_amount', 'type': 'esriFieldTypeDouble'},\n",
       "     {'name': 'extra', 'type': 'esriFieldTypeDouble'},\n",
       "     {'name': 'mta_tax', 'type': 'esriFieldTypeDouble'},\n",
       "     {'name': 'tip_amount', 'type': 'esriFieldTypeDouble'},\n",
       "     {'name': 'tolls_amount', 'type': 'esriFieldTypeDouble'},\n",
       "     {'name': 'improvement_surcharge', 'type': 'esriFieldTypeDouble'},\n",
       "     {'name': 'total_amount', 'type': 'esriFieldTypeDouble'}]},\n",
       "   'geometry': {'geometryType': 'esriGeometryPoint',\n",
       "    'spatialReference': {'wkid': 4326},\n",
       "    'fields': [{'name': 'pickup_longitude', 'formats': ['x']},\n",
       "     {'name': 'pickup_latitude', 'formats': ['y']}]},\n",
       "   'time': {'timeType': 'instant',\n",
       "    'timeReference': {'timeZone': 'UTC'},\n",
       "    'fields': [{'name': 'tpep_pickup_datetime',\n",
       "      'formats': ['yyyy-MM-dd HH:mm:ss']}]}}]}"
      ]
     },
     "execution_count": 10,
     "metadata": {},
     "output_type": "execute_result"
    }
   ],
   "source": [
    "data_item.manifest"
   ]
  },
  {
   "cell_type": "markdown",
   "metadata": {},
   "source": [
    "## Performing data aggregation"
   ]
  },
  {
   "cell_type": "code",
   "execution_count": 11,
   "metadata": {},
   "outputs": [
    {
     "data": {
      "text/plain": [
       "[<Item title:\"bigDataFileShares_all_hurricanes\" type:Big Data File Share owner:api_data_owner>,\n",
       " <Item title:\"bigDataFileShares_hurricanes_dask_csv\" type:Big Data File Share owner:atma.mani>,\n",
       " <Item title:\"bigDataFileShares_hurricanes_dask_shp\" type:Big Data File Share owner:atma.mani>,\n",
       " <Item title:\"bigDataFileShares_NYC_taxi_data15\" type:Big Data File Share owner:api_data_owner>]"
      ]
     },
     "execution_count": 11,
     "metadata": {},
     "output_type": "execute_result"
    }
   ],
   "source": [
    "search_result = gis.content.search(\"\", item_type = \"big data file share\")\n",
    "search_result"
   ]
  },
  {
   "cell_type": "code",
   "execution_count": 12,
   "metadata": {},
   "outputs": [
    {
     "data": {
      "text/html": [
       "<div class=\"item_container\" style=\"height: auto; overflow: hidden; border: 1px solid #cfcfcf; border-radius: 2px; background: #f6fafa; line-height: 1.21429em; padding: 10px;\">\n",
       "                    <div class=\"item_left\" style=\"width: 210px; float: left;\">\n",
       "                       <a href='https://pythonapi.playground.esri.com/portal/home/item.html?id=a2fed6f0de474fe4a6bb7176e9c9b204' target='_blank'>\n",
       "                        <img src='https://pythonapi.playground.esri.com/portal/portalimages/desktopapp.png' class=\"itemThumbnail\">\n",
       "                       </a>\n",
       "                    </div>\n",
       "\n",
       "                    <div class=\"item_right\"     style=\"float: none; width: auto; overflow: hidden;\">\n",
       "                        <a href='https://pythonapi.playground.esri.com/portal/home/item.html?id=a2fed6f0de474fe4a6bb7176e9c9b204' target='_blank'><b>bigDataFileShares_NYC_taxi_data15</b>\n",
       "                        </a>\n",
       "                        <br/><img src='https://pythonapi.playground.esri.com/portal/home/js/jsapi/esri/css/images/item_type_icons/layers16.png' style=\"vertical-align:middle;\">Big Data File Share by api_data_owner\n",
       "                        <br/>Last Modified: May 02, 2018\n",
       "                        <br/>0 comments, 0 views\n",
       "                    </div>\n",
       "                </div>\n",
       "                "
      ],
      "text/plain": [
       "<Item title:\"bigDataFileShares_NYC_taxi_data15\" type:Big Data File Share owner:api_data_owner>"
      ]
     },
     "execution_count": 12,
     "metadata": {},
     "output_type": "execute_result"
    }
   ],
   "source": [
    "data_item = search_result[3]\n",
    "data_item"
   ]
  },
  {
   "cell_type": "code",
   "execution_count": 13,
   "metadata": {},
   "outputs": [
    {
     "data": {
      "text/plain": [
       "[<Layer url:\"https://pythonapi.playground.esri.com/ga/rest/services/DataStoreCatalogs/bigDataFileShares_NYC_taxi_data15/BigDataCatalogServer/2015\">]"
      ]
     },
     "execution_count": 13,
     "metadata": {},
     "output_type": "execute_result"
    }
   ],
   "source": [
    "data_item.layers"
   ]
  },
  {
   "cell_type": "code",
   "execution_count": 14,
   "metadata": {},
   "outputs": [
    {
     "data": {
      "text/plain": [
       "<Layer url:\"https://pythonapi.playground.esri.com/ga/rest/services/DataStoreCatalogs/bigDataFileShares_NYC_taxi_data15/BigDataCatalogServer/2015\">"
      ]
     },
     "execution_count": 14,
     "metadata": {},
     "output_type": "execute_result"
    }
   ],
   "source": [
    "year_2015 = data_item.layers[0]\n",
    "year_2015"
   ]
  },
  {
   "cell_type": "markdown",
   "metadata": {},
   "source": [
    "## Aggregate points tool"
   ]
  },
  {
   "cell_type": "code",
   "execution_count": 15,
   "metadata": {},
   "outputs": [],
   "source": [
    "from arcgis.geoanalytics.summarize_data import aggregate_points"
   ]
  },
  {
   "cell_type": "code",
   "execution_count": 16,
   "metadata": {},
   "outputs": [
    {
     "data": {
      "text/plain": [
       "{'wkid': 4326}"
      ]
     },
     "execution_count": 16,
     "metadata": {},
     "output_type": "execute_result"
    }
   ],
   "source": [
    "year_2015.properties['spatialReference']"
   ]
  },
  {
   "cell_type": "code",
   "execution_count": 17,
   "metadata": {},
   "outputs": [],
   "source": [
    "arcgis.env.process_spatial_reference = 3857"
   ]
  },
  {
   "cell_type": "code",
   "execution_count": 18,
   "metadata": {},
   "outputs": [],
   "source": [
    "arcgis.env.verbose = True"
   ]
  },
  {
   "cell_type": "code",
   "execution_count": 19,
   "metadata": {},
   "outputs": [
    {
     "name": "stdout",
     "output_type": "stream",
     "text": [
      "Submitted.\n",
      "Executing...\n",
      "Executing (AggregatePoints): AggregatePoints \"Feature Set\" Square 1 Kilometers # # # # # # # \"{\"serviceProperties\": {\"name\": \"Aggregate_Points_Analysis_95O6MR\", \"serviceUrl\": \"https://pythonapi.playground.esri.com/server/rest/services/Hosted/Aggregate_Points_Analysis_95O6MR/FeatureServer\"}, \"itemProperties\": {\"itemId\": \"e30dbe3d177149ab9b06195ce8317807\"}}\" \"{\"defaultAggregationStyles\": false, \"processSR\": {\"wkid\": 3857}}\"\n",
      "Start Time: Wed Oct  9 12:21:02 2019\n",
      "Using URL based GPRecordSet param: https://pythonapi.playground.esri.com/ga/rest/services/DataStoreCatalogs/bigDataFileShares_NYC_taxi_data15/BigDataCatalogServer/2015\n",
      "{\"messageCode\":\"BD_101033\",\"message\":\"'pointLayer' will be projected into the processing spatial reference.\",\"params\":{\"paramName\":\"pointLayer\"}}\n",
      "{\"messageCode\":\"BD_101028\",\"message\":\"Starting new distributed job with 236 tasks.\",\"params\":{\"totalTasks\":\"236\"}}\n",
      "{\"messageCode\":\"BD_101029\",\"message\":\"0/236 distributed tasks completed.\",\"params\":{\"completedTasks\":\"0\",\"totalTasks\":\"236\"}}\n",
      "{\"messageCode\":\"BD_101029\",\"message\":\"1/236 distributed tasks completed.\",\"params\":{\"completedTasks\":\"1\",\"totalTasks\":\"236\"}}\n",
      "{\"messageCode\":\"BD_101029\",\"message\":\"10/236 distributed tasks completed.\",\"params\":{\"completedTasks\":\"10\",\"totalTasks\":\"236\"}}\n",
      "{\"messageCode\":\"BD_101029\",\"message\":\"19/236 distributed tasks completed.\",\"params\":{\"completedTasks\":\"19\",\"totalTasks\":\"236\"}}\n",
      "{\"messageCode\":\"BD_101029\",\"message\":\"27/236 distributed tasks completed.\",\"params\":{\"completedTasks\":\"27\",\"totalTasks\":\"236\"}}\n",
      "{\"messageCode\":\"BD_101029\",\"message\":\"37/236 distributed tasks completed.\",\"params\":{\"completedTasks\":\"37\",\"totalTasks\":\"236\"}}\n",
      "{\"messageCode\":\"BD_101029\",\"message\":\"44/236 distributed tasks completed.\",\"params\":{\"completedTasks\":\"44\",\"totalTasks\":\"236\"}}\n",
      "{\"messageCode\":\"BD_101029\",\"message\":\"53/236 distributed tasks completed.\",\"params\":{\"completedTasks\":\"53\",\"totalTasks\":\"236\"}}\n",
      "{\"messageCode\":\"BD_101029\",\"message\":\"62/236 distributed tasks completed.\",\"params\":{\"completedTasks\":\"62\",\"totalTasks\":\"236\"}}\n",
      "{\"messageCode\":\"BD_101029\",\"message\":\"69/236 distributed tasks completed.\",\"params\":{\"completedTasks\":\"69\",\"totalTasks\":\"236\"}}\n",
      "{\"messageCode\":\"BD_101029\",\"message\":\"78/236 distributed tasks completed.\",\"params\":{\"completedTasks\":\"78\",\"totalTasks\":\"236\"}}\n",
      "{\"messageCode\":\"BD_101029\",\"message\":\"87/236 distributed tasks completed.\",\"params\":{\"completedTasks\":\"87\",\"totalTasks\":\"236\"}}\n",
      "{\"messageCode\":\"BD_101029\",\"message\":\"94/236 distributed tasks completed.\",\"params\":{\"completedTasks\":\"94\",\"totalTasks\":\"236\"}}\n",
      "{\"messageCode\":\"BD_101029\",\"message\":\"101/236 distributed tasks completed.\",\"params\":{\"completedTasks\":\"101\",\"totalTasks\":\"236\"}}\n",
      "{\"messageCode\":\"BD_101029\",\"message\":\"110/236 distributed tasks completed.\",\"params\":{\"completedTasks\":\"110\",\"totalTasks\":\"236\"}}\n",
      "{\"messageCode\":\"BD_101029\",\"message\":\"125/236 distributed tasks completed.\",\"params\":{\"completedTasks\":\"125\",\"totalTasks\":\"236\"}}\n",
      "{\"messageCode\":\"BD_101029\",\"message\":\"236/236 distributed tasks completed.\",\"params\":{\"completedTasks\":\"236\",\"totalTasks\":\"236\"}}\n",
      "{\"messageCode\":\"BD_101081\",\"message\":\"Finished writing results:\"}\n",
      "{\"messageCode\":\"BD_101082\",\"message\":\"* Count of features = 4560\",\"params\":{\"resultCount\":\"4560\"}}\n",
      "{\"messageCode\":\"BD_101083\",\"message\":\"* Spatial extent = {\\\"xmin\\\":-140.5863419647051,\\\"ymin\\\":-27.777893572271292,\\\"xmax\\\":78.66546943034649,\\\"ymax\\\":82.49801821869467}\",\"params\":{\"extent\":\"{\\\"xmin\\\":-140.5863419647051,\\\"ymin\\\":-27.777893572271292,\\\"xmax\\\":78.66546943034649,\\\"ymax\\\":82.49801821869467}\"}}\n",
      "{\"messageCode\":\"BD_101084\",\"message\":\"* Temporal extent = None\",\"params\":{\"extent\":\"None\"}}\n",
      "{\"messageCode\":\"BD_101226\",\"message\":\"Feature service layer created: https://pythonapi.playground.esri.com/server/rest/services/Hosted/Aggregate_Points_Analysis_95O6MR/FeatureServer/0\",\"params\":{\"serviceUrl\":\"https://pythonapi.playground.esri.com/server/rest/services/Hosted/Aggregate_Points_Analysis_95O6MR/FeatureServer/0\"}}\n",
      "Succeeded at Wed Oct  9 12:22:42 2019 (Elapsed Time: 1 minutes 40 seconds)\n"
     ]
    }
   ],
   "source": [
    "agg_result = aggregate_points(year_2015,\n",
    "                              bin_type = 'square',\n",
    "                              bin_size = 1,\n",
    "                              bin_size_unit = 'Kilometers')"
   ]
  },
  {
   "cell_type": "markdown",
   "metadata": {},
   "source": [
    "## Inspect the results"
   ]
  },
  {
   "cell_type": "code",
   "execution_count": 20,
   "metadata": {},
   "outputs": [
    {
     "data": {
      "application/vnd.jupyter.widget-view+json": {
       "model_id": "baf66c18c6194d2686737ae5bf10c1f4",
       "version_major": 2,
       "version_minor": 0
      },
      "text/plain": [
       "MapView(layout=Layout(height='400px', width='100%'), zoom=11.0)"
      ]
     },
     "metadata": {},
     "output_type": "display_data"
    },
    {
     "data": {
      "text/html": [
       "<div class=\"map-static-img-preview-83014bfd-24ed-459d-942f-2db4a870d358\"><img src=\"\"></img></div>"
      ],
      "text/plain": [
       "<IPython.core.display.HTML object>"
      ]
     },
     "metadata": {},
     "output_type": "display_data"
    }
   ],
   "source": [
    "processed_map = gis.map('New York, NY', zoomlevel=11)\n",
    "processed_map"
   ]
  },
  {
   "cell_type": "code",
   "execution_count": 21,
   "metadata": {},
   "outputs": [],
   "source": [
    "processed_map.add_layer(agg_result)"
   ]
  },
  {
   "cell_type": "code",
   "execution_count": 22,
   "metadata": {},
   "outputs": [
    {
     "data": {
      "text/plain": [
       "{'results': [{'itemId': 'e30dbe3d177149ab9b06195ce8317807',\n",
       "   'success': True,\n",
       "   'notSharedWith': []}]}"
      ]
     },
     "execution_count": 22,
     "metadata": {},
     "output_type": "execute_result"
    }
   ],
   "source": [
    "agg_result.share(org=True)"
   ]
  },
  {
   "cell_type": "code",
   "execution_count": 23,
   "metadata": {},
   "outputs": [
    {
     "data": {
      "application/vnd.jupyter.widget-view+json": {
       "model_id": "545bb26ded5343af92582f0d03ad1ce9",
       "version_major": 2,
       "version_minor": 0
      },
      "text/plain": [
       "MapView(layout=Layout(height='400px', width='100%'), zoom=11.0)"
      ]
     },
     "metadata": {},
     "output_type": "display_data"
    },
    {
     "data": {
      "text/html": [
       "<div class=\"map-static-img-preview-964b265c-0bb8-42a6-a9a8-fc8e85683633\"><img src=\"\"></img></div>"
      ],
      "text/plain": [
       "<IPython.core.display.HTML object>"
      ]
     },
     "metadata": {},
     "output_type": "display_data"
    }
   ],
   "source": [
    "map2 = gis.map(\"New York, NY\", zoomlevel=11)\n",
    "map2"
   ]
  },
  {
   "cell_type": "code",
   "execution_count": 24,
   "metadata": {},
   "outputs": [],
   "source": [
    "map2.add_layer(agg_result, {\n",
    "    \"renderer\" : \"ClassedColorRenderer\",\n",
    "    \"field_name\" : \"MAX_tip_amount\",\n",
    "    \"normalizationField\" : 'MAX_trip_distance',\n",
    "    \"classificationMethod\" : 'natural-breaks',\n",
    "    \"opacity\" : 0.75\n",
    "})"
   ]
  },
  {
   "cell_type": "code",
   "execution_count": null,
   "metadata": {},
   "outputs": [],
   "source": []
  }
 ],
 "metadata": {
  "kernelspec": {
   "display_name": "Python 3",
   "language": "python",
   "name": "python3"
  },
  "language_info": {
   "codemirror_mode": {
    "name": "ipython",
    "version": 3
   },
   "file_extension": ".py",
   "mimetype": "text/x-python",
   "name": "python",
   "nbconvert_exporter": "python",
   "pygments_lexer": "ipython3",
   "version": "3.7.4"
  }
 },
 "nbformat": 4,
 "nbformat_minor": 2
}
