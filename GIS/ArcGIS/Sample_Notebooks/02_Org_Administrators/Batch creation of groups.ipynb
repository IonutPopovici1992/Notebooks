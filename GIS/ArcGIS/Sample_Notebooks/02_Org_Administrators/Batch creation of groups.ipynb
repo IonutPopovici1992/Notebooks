{
 "cells": [
  {
   "cell_type": "markdown",
   "metadata": {},
   "source": [
    "# Batch creation of groups"
   ]
  },
  {
   "cell_type": "code",
   "execution_count": 1,
   "metadata": {},
   "outputs": [],
   "source": [
    "from arcgis.gis import GIS\n",
    "from IPython.display import display\n",
    "import pandas as pd"
   ]
  },
  {
   "cell_type": "markdown",
   "metadata": {},
   "source": [
    "## Data preparation"
   ]
  },
  {
   "cell_type": "code",
   "execution_count": 2,
   "metadata": {},
   "outputs": [],
   "source": [
    "groups_df = pd.read_csv('data/groups.csv')"
   ]
  },
  {
   "cell_type": "code",
   "execution_count": 3,
   "metadata": {},
   "outputs": [
    {
     "data": {
      "text/html": [
       "<div>\n",
       "<style scoped>\n",
       "    .dataframe tbody tr th:only-of-type {\n",
       "        vertical-align: middle;\n",
       "    }\n",
       "\n",
       "    .dataframe tbody tr th {\n",
       "        vertical-align: top;\n",
       "    }\n",
       "\n",
       "    .dataframe thead th {\n",
       "        text-align: right;\n",
       "    }\n",
       "</style>\n",
       "<table border=\"1\" class=\"dataframe\">\n",
       "  <thead>\n",
       "    <tr style=\"text-align: right;\">\n",
       "      <th></th>\n",
       "      <th>access</th>\n",
       "      <th>description</th>\n",
       "      <th>isFav</th>\n",
       "      <th>isInvitationOnly</th>\n",
       "      <th>isViewOnly</th>\n",
       "      <th>phone</th>\n",
       "      <th>snippet</th>\n",
       "      <th>sortField</th>\n",
       "      <th>sortOrder</th>\n",
       "      <th>tags</th>\n",
       "      <th>thumbnail</th>\n",
       "      <th>title</th>\n",
       "    </tr>\n",
       "  </thead>\n",
       "  <tbody>\n",
       "    <tr>\n",
       "      <th>0</th>\n",
       "      <td>public</td>\n",
       "      <td>This group includes a complete list of basemap...</td>\n",
       "      <td>False</td>\n",
       "      <td>True</td>\n",
       "      <td>True</td>\n",
       "      <td>NaN</td>\n",
       "      <td>Standard basemaps for our organizations.</td>\n",
       "      <td>title</td>\n",
       "      <td>asc</td>\n",
       "      <td>Maps,Base,Basemap,Basemaps</td>\n",
       "      <td>data/Icons/Basemaps.png</td>\n",
       "      <td>Basemaps</td>\n",
       "    </tr>\n",
       "    <tr>\n",
       "      <th>1</th>\n",
       "      <td>org</td>\n",
       "      <td>This Group contains an inventory of map servic...</td>\n",
       "      <td>False</td>\n",
       "      <td>False</td>\n",
       "      <td>False</td>\n",
       "      <td>NaN</td>\n",
       "      <td>The authoritative service catalog.</td>\n",
       "      <td>title</td>\n",
       "      <td>asc</td>\n",
       "      <td>Services,Maps,Data</td>\n",
       "      <td>data/Icons/CentralServices.png</td>\n",
       "      <td>Central Services</td>\n",
       "    </tr>\n",
       "    <tr>\n",
       "      <th>2</th>\n",
       "      <td>org</td>\n",
       "      <td>A group dealing with government and industry a...</td>\n",
       "      <td>False</td>\n",
       "      <td>False</td>\n",
       "      <td>False</td>\n",
       "      <td>NaN</td>\n",
       "      <td>Regulatory compliance tracking &amp; reporting.</td>\n",
       "      <td>modified</td>\n",
       "      <td>asc</td>\n",
       "      <td>Regulatory,Compliance</td>\n",
       "      <td>data/Icons/RegCompliance.png</td>\n",
       "      <td>Compliance</td>\n",
       "    </tr>\n",
       "  </tbody>\n",
       "</table>\n",
       "</div>"
      ],
      "text/plain": [
       "   access                                        description  isFav  \\\n",
       "0  public  This group includes a complete list of basemap...  False   \n",
       "1     org  This Group contains an inventory of map servic...  False   \n",
       "2     org  A group dealing with government and industry a...  False   \n",
       "\n",
       "   isInvitationOnly  isViewOnly  phone  \\\n",
       "0              True        True    NaN   \n",
       "1             False       False    NaN   \n",
       "2             False       False    NaN   \n",
       "\n",
       "                                       snippet sortField sortOrder  \\\n",
       "0     Standard basemaps for our organizations.     title       asc   \n",
       "1        The authoritative service catalog.        title       asc   \n",
       "2  Regulatory compliance tracking & reporting.  modified       asc   \n",
       "\n",
       "                         tags                       thumbnail  \\\n",
       "0  Maps,Base,Basemap,Basemaps         data/Icons/Basemaps.png   \n",
       "1          Services,Maps,Data  data/Icons/CentralServices.png   \n",
       "2       Regulatory,Compliance    data/Icons/RegCompliance.png   \n",
       "\n",
       "              title  \n",
       "0          Basemaps  \n",
       "1  Central Services  \n",
       "2        Compliance  "
      ]
     },
     "execution_count": 3,
     "metadata": {},
     "output_type": "execute_result"
    }
   ],
   "source": [
    "groups_df[:3]"
   ]
  },
  {
   "cell_type": "code",
   "execution_count": 5,
   "metadata": {},
   "outputs": [],
   "source": [
    "import zipfile\n",
    "with zipfile.ZipFile(\"data/Icons.zip\") as z:\n",
    "    z.extractall(\"data\")"
   ]
  },
  {
   "cell_type": "code",
   "execution_count": null,
   "metadata": {},
   "outputs": [],
   "source": [
    "import csv\n",
    "\n",
    "gis = GIS(\"https://pythonapi.playground.esri.com/portal\", \"arcgis_python\", \"amazing_arcgis_123\")\n",
    "\n",
    "groups = []\n",
    "with open('data/groups.csv') as csvfile:\n",
    "    reader = csv.DictReader(csvfile)\n",
    "    for row in reader:\n",
    "        group = gis.groups.create_from_dict(row)\n",
    "        groups.append(group)"
   ]
  },
  {
   "cell_type": "code",
   "execution_count": null,
   "metadata": {},
   "outputs": [],
   "source": [
    "for group in groups:\n",
    "    display(group)"
   ]
  },
  {
   "cell_type": "code",
   "execution_count": null,
   "metadata": {},
   "outputs": [],
   "source": []
  }
 ],
 "metadata": {
  "kernelspec": {
   "display_name": "Python 3",
   "language": "python",
   "name": "python3"
  },
  "language_info": {
   "codemirror_mode": {
    "name": "ipython",
    "version": 3
   },
   "file_extension": ".py",
   "mimetype": "text/x-python",
   "name": "python",
   "nbconvert_exporter": "python",
   "pygments_lexer": "ipython3",
   "version": "3.7.3"
  }
 },
 "nbformat": 4,
 "nbformat_minor": 2
}
