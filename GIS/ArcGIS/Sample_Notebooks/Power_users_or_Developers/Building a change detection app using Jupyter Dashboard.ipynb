{
 "cells": [
  {
   "cell_type": "markdown",
   "metadata": {},
   "source": [
    "## Connect to ArcGIS Online"
   ]
  },
  {
   "cell_type": "code",
   "execution_count": 1,
   "metadata": {},
   "outputs": [
    {
     "ename": "ImportError",
     "evalue": "Unable to import required dependencies:\nnumpy: \n\nIMPORTANT: PLEASE READ THIS FOR ADVICE ON HOW TO SOLVE THIS ISSUE!\n\nImporting the multiarray numpy extension module failed.  Most\nlikely you are trying to import a failed build of numpy.\nHere is how to proceed:\n- If you're working with a numpy git repository, try `git clean -xdf`\n  (removes all files not under version control) and rebuild numpy.\n- If you are simply trying to use the numpy version that you have installed:\n  your installation is broken - please reinstall numpy.\n- If you have already reinstalled and that did not fix the problem, then:\n  1. Check that you are using the Python you expect (you're using /anaconda3/bin/python),\n     and that you have no directories in your PATH or PYTHONPATH that can\n     interfere with the Python and numpy versions you're trying to use.\n  2. If (1) looks fine, you can open a new issue at\n     https://github.com/numpy/numpy/issues.  Please include details on:\n     - how you installed Python\n     - how you installed numpy\n     - your operating system\n     - whether or not you have multiple versions of Python installed\n     - if you built from source, your compiler versions and ideally a build log\n\n     Note: this error has many possible causes, so please don't comment on\n     an existing issue about this - open a new one instead.\n\nOriginal error was: dlopen(/anaconda3/lib/python3.6/site-packages/numpy/core/_multiarray_umath.cpython-36m-darwin.so, 2): Library not loaded: @rpath/libopenblas.dylib\n  Referenced from: /anaconda3/lib/python3.6/site-packages/numpy/core/_multiarray_umath.cpython-36m-darwin.so\n  Reason: image not found\n",
     "output_type": "error",
     "traceback": [
      "\u001b[0;31m---------------------------------------------------------------------------\u001b[0m",
      "\u001b[0;31mImportError\u001b[0m                               Traceback (most recent call last)",
      "\u001b[0;32m<ipython-input-1-d94c5af77f15>\u001b[0m in \u001b[0;36m<module>\u001b[0;34m\u001b[0m\n\u001b[1;32m      4\u001b[0m \u001b[0;32mfrom\u001b[0m \u001b[0marcgis\u001b[0m \u001b[0;32mimport\u001b[0m \u001b[0mgeometry\u001b[0m\u001b[0;34m\u001b[0m\u001b[0;34m\u001b[0m\u001b[0m\n\u001b[1;32m      5\u001b[0m \u001b[0;34m\u001b[0m\u001b[0m\n\u001b[0;32m----> 6\u001b[0;31m \u001b[0;32mimport\u001b[0m \u001b[0mpandas\u001b[0m \u001b[0;32mas\u001b[0m \u001b[0mpd\u001b[0m\u001b[0;34m\u001b[0m\u001b[0;34m\u001b[0m\u001b[0m\n\u001b[0m\u001b[1;32m      7\u001b[0m \u001b[0;34m\u001b[0m\u001b[0m\n\u001b[1;32m      8\u001b[0m \u001b[0;31m# connect as an anonymous user\u001b[0m\u001b[0;34m\u001b[0m\u001b[0;34m\u001b[0m\u001b[0;34m\u001b[0m\u001b[0m\n",
      "\u001b[0;32m/anaconda3/lib/python3.6/site-packages/pandas/__init__.py\u001b[0m in \u001b[0;36m<module>\u001b[0;34m\u001b[0m\n\u001b[1;32m     15\u001b[0m \u001b[0;32mif\u001b[0m \u001b[0mmissing_dependencies\u001b[0m\u001b[0;34m:\u001b[0m\u001b[0;34m\u001b[0m\u001b[0;34m\u001b[0m\u001b[0m\n\u001b[1;32m     16\u001b[0m     raise ImportError(\n\u001b[0;32m---> 17\u001b[0;31m         \u001b[0;34m\"Unable to import required dependencies:\\n\"\u001b[0m \u001b[0;34m+\u001b[0m \u001b[0;34m\"\\n\"\u001b[0m\u001b[0;34m.\u001b[0m\u001b[0mjoin\u001b[0m\u001b[0;34m(\u001b[0m\u001b[0mmissing_dependencies\u001b[0m\u001b[0;34m)\u001b[0m\u001b[0;34m\u001b[0m\u001b[0;34m\u001b[0m\u001b[0m\n\u001b[0m\u001b[1;32m     18\u001b[0m     )\n\u001b[1;32m     19\u001b[0m \u001b[0;32mdel\u001b[0m \u001b[0mhard_dependencies\u001b[0m\u001b[0;34m,\u001b[0m \u001b[0mdependency\u001b[0m\u001b[0;34m,\u001b[0m \u001b[0mmissing_dependencies\u001b[0m\u001b[0;34m\u001b[0m\u001b[0;34m\u001b[0m\u001b[0m\n",
      "\u001b[0;31mImportError\u001b[0m: Unable to import required dependencies:\nnumpy: \n\nIMPORTANT: PLEASE READ THIS FOR ADVICE ON HOW TO SOLVE THIS ISSUE!\n\nImporting the multiarray numpy extension module failed.  Most\nlikely you are trying to import a failed build of numpy.\nHere is how to proceed:\n- If you're working with a numpy git repository, try `git clean -xdf`\n  (removes all files not under version control) and rebuild numpy.\n- If you are simply trying to use the numpy version that you have installed:\n  your installation is broken - please reinstall numpy.\n- If you have already reinstalled and that did not fix the problem, then:\n  1. Check that you are using the Python you expect (you're using /anaconda3/bin/python),\n     and that you have no directories in your PATH or PYTHONPATH that can\n     interfere with the Python and numpy versions you're trying to use.\n  2. If (1) looks fine, you can open a new issue at\n     https://github.com/numpy/numpy/issues.  Please include details on:\n     - how you installed Python\n     - how you installed numpy\n     - your operating system\n     - whether or not you have multiple versions of Python installed\n     - if you built from source, your compiler versions and ideally a build log\n\n     Note: this error has many possible causes, so please don't comment on\n     an existing issue about this - open a new one instead.\n\nOriginal error was: dlopen(/anaconda3/lib/python3.6/site-packages/numpy/core/_multiarray_umath.cpython-36m-darwin.so, 2): Library not loaded: @rpath/libopenblas.dylib\n  Referenced from: /anaconda3/lib/python3.6/site-packages/numpy/core/_multiarray_umath.cpython-36m-darwin.so\n  Reason: image not found\n"
     ]
    }
   ],
   "source": [
    "from arcgis.gis import GIS\n",
    "from arcgis.geocoding import geocode\n",
    "from arcgis.raster.functions import *\n",
    "from arcgis import geometry\n",
    "\n",
    "import pandas as pd\n",
    "\n",
    "# connect as an anonymous user\n",
    "gis = GIS()\n",
    "\n",
    "# search for the landsat multispectral imagery layer\n",
    "landsat_item = gis.content.search('Landsat Multispectral', 'Imagery Layer', outside_org=True)[0]\n",
    "landsat = landsat_item.layers[0]\n",
    "df = None"
   ]
  },
  {
   "cell_type": "markdown",
   "metadata": {},
   "source": [
    "## Create widget controls to accept place of interest"
   ]
  },
  {
   "cell_type": "code",
   "execution_count": null,
   "metadata": {},
   "outputs": [],
   "source": [
    "import ipywidgets as widgets\n",
    "\n",
    "# text box widget\n",
    "location = widgets.Text(value='Ranchi, India', placeholder='Ranchi, India',\n",
    "                        description='Location:', disabled=False)\n",
    "\n",
    "# command button widget\n",
    "gobtn = widgets.Button(description='Go', disabled=False,\n",
    "                       button_style='', tooltip='Go', icon='check')\n",
    "\n",
    "# define what happens whent the command button is clicked\n",
    "def on_gobutton_clicked(b):\n",
    "    global df\n",
    "    global m\n",
    "    global oldslider\n",
    "    \n",
    "    # geocode the place name and set that as the map's extent\n",
    "    area = geocode(location.value)[0]\n",
    "    m.extent = area['extent']\n",
    "    df = filter_images()\n",
    "\n",
    "gobtn.on_click(on_gobutton_clicked)\n",
    "\n",
    "location_items = [location, gobtn]\n",
    "widgets.HBox(location_items)"
   ]
  },
  {
   "cell_type": "code",
   "execution_count": null,
   "metadata": {},
   "outputs": [],
   "source": [
    "m = gis.map(location.value)\n",
    "m.add_layer(landsat)\n",
    "display(m)"
   ]
  },
  {
   "cell_type": "markdown",
   "metadata": {},
   "source": [
    "## Create date slider controls"
   ]
  },
  {
   "cell_type": "code",
   "execution_count": null,
   "metadata": {},
   "outputs": [],
   "source": [
    "oldindex = 0 # int(len(df)/2)\n",
    "\n",
    "# before image date slider\n",
    "oldslider = widgets.IntSlider(value=oldindex, min=0, max=10, #len(df) - 1,\n",
    "                              step=1, description='Older:', disabled=False,\n",
    "                              continuous_update=True,\n",
    "                              orientation='horizontal',\n",
    "                              readout=False, readout_format='i',\n",
    "                              slide_color='white')\n",
    "\n",
    "old_label = widgets.Label(value='') # str(df.Time.iloc[oldindex].date()))\n",
    "\n",
    "# define the slider behavior\n",
    "def on_old_value_change(change):\n",
    "    global df\n",
    "    i = change['new']\n",
    "    if df is not None:\n",
    "        try:\n",
    "            # print(df.Time.iloc[i].date())\n",
    "            old_label.value = str(df.Time.iloc[i].date())\n",
    "        except:\n",
    "            pass\n",
    "\n",
    "oldslider.observe(on_old_value_change, names='value')    \n",
    "widgets.HBox([oldslider, old_label])"
   ]
  },
  {
   "cell_type": "code",
   "execution_count": null,
   "metadata": {},
   "outputs": [],
   "source": [
    "newindex = 0 # len(df) - 1\n",
    "\n",
    "# after image date slider\n",
    "newslider = widgets.IntSlider(value=newindex, min=0, max=10, #len(df) - 1,\n",
    "                              step=1, description='Newer:', disabled=False,\n",
    "                              continuous_update=True, orientation='horizontal',\n",
    "                              readout=False, readout_format='i', slider_color='white')\n",
    "\n",
    "new_label = widgets.Label(value='') #str(df.Time.iloc[newindex].date()))\n",
    "\n",
    "# define the slider behavior\n",
    "def on_new_value_change(change):\n",
    "    global df\n",
    "    i = change['new']\n",
    "    if df is not None:\n",
    "        try:\n",
    "        # print(df.Time.iloc[i].date())\n",
    "            new_label.value = str(df.Time.iloc[i].date())\n",
    "        except:\n",
    "            pass\n",
    "newslider.observe(on_new_value_change, names='value')\n",
    "widgets.HBox([newslider, new_label])"
   ]
  },
  {
   "cell_type": "markdown",
   "metadata": {},
   "source": [
    "## Query the time enabled landast imagery layer"
   ]
  },
  {
   "cell_type": "code",
   "execution_count": null,
   "metadata": {},
   "outputs": [],
   "source": [
    "def update_sliders(tdf):\n",
    "    global oldslider\n",
    "    global newslider\n",
    "    \n",
    "    oldslider.max = len(tdf) - 1\n",
    "    newslider.max = len(tdf) - 1\n",
    "    oldindex = int(len(tdf) / 2)\n",
    "    newindex = int(len(tdf) - 1)\n",
    "    oldslider.value = oldindex\n",
    "    newslider.value = newindex\n",
    "    old_label.value = str(tdf.Time.iloc[oldindex].date())\n",
    "    new_label.value = str(tdf.Time.iloc[newindex].date())\n",
    "\n",
    "\n",
    "def filter_images():\n",
    "    global df\n",
    "    area = geocode(location.value, out_sr=landsat.properties.spatialReference)[0]\n",
    "    extent = area['extent']\n",
    "    \n",
    "    selected = landsat.filter_by(where=\"(Category = 1) AND (CloudCover <= 0.10)\",\n",
    "                                 geometry=geometry.filters.intersects(extent))\n",
    "    fs = selected.query(out_fields=\"AcquisitionDate, GroupName, Best, CloudCover, WRS_Row, WRS_Path, Month, Name\",\n",
    "                        return_geometry=True,\n",
    "                        return_distinct_values=False,\n",
    "                        order_by_fields=\"AcquisitionDate\")\n",
    "    tdf = fs.df\n",
    "    df = tdf\n",
    "    tdf['Time'] = pd.to_datetime(tdf['AcquisitionDate'], unit='ms')\n",
    "    \n",
    "    if len(tdf) > 1:\n",
    "        update_sliders(tdf)\n",
    "\n",
    "    # m.draw(tdf.iloc[oldslider.value].SHAPE)\n",
    "    \n",
    "    return tdf"
   ]
  },
  {
   "cell_type": "code",
   "execution_count": null,
   "metadata": {},
   "outputs": [],
   "source": [
    "df = filter_images()"
   ]
  },
  {
   "cell_type": "markdown",
   "metadata": {},
   "source": [
    "## Perform change detection when the action button is clicked"
   ]
  },
  {
   "cell_type": "code",
   "execution_count": null,
   "metadata": {},
   "outputs": [],
   "source": [
    "# create the action button\n",
    "diffbtn = widgets.Button(description='Detect changes', disabled=False,\n",
    "                         button_style='success', tooltip='Show Different Image',\n",
    "                         icon='check')\n",
    "\n",
    "def on_diffbutton_clicked(b):\n",
    "    # m.clear_graphics()\n",
    "    first = df.iloc[oldslider.value].OBJECTID\n",
    "    last = df.iloc[newslider.value].OBJECTID\n",
    "    old = landsat.filter_by('OBJECTID=' + str(first))\n",
    "    new = landsat.filter_by('OBJECTID=' + str(last))\n",
    "    diff = stretch(composite_band([ndvi(old, '5 4'), ndvi(new, '5 4'), ndvi(old, '5 4')]),\n",
    "                   stretch_type='stddev', num_stddev=3, min=0, max=255, dra=True, astype='u8')\n",
    "    m.add_layer(diff)\n",
    "    \n",
    "diffbtn.on_click(on_diffbutton_clicked)\n",
    "diffbtn"
   ]
  },
  {
   "cell_type": "code",
   "execution_count": null,
   "metadata": {},
   "outputs": [],
   "source": []
  }
 ],
 "metadata": {
  "kernelspec": {
   "display_name": "Python 3",
   "language": "python",
   "name": "python3"
  },
  "language_info": {
   "codemirror_mode": {
    "name": "ipython",
    "version": 3
   },
   "file_extension": ".py",
   "mimetype": "text/x-python",
   "name": "python",
   "nbconvert_exporter": "python",
   "pygments_lexer": "ipython3",
   "version": "3.6.7"
  }
 },
 "nbformat": 4,
 "nbformat_minor": 2
}
