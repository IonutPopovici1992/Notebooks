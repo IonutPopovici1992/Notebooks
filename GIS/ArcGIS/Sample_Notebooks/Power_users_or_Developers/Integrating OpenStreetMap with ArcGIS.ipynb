{
 "cells": [
  {
   "cell_type": "markdown",
   "metadata": {},
   "source": [
    "# Integrating OpenStreetMap with ArcGIS"
   ]
  },
  {
   "cell_type": "code",
   "execution_count": 1,
   "metadata": {},
   "outputs": [],
   "source": [
    "# Libraries for Creating Buttons & Handling Output\n",
    "from IPython.display import display, clear_output\n",
    "import ipywidgets as widgets\n",
    "\n",
    "# OSM Runner & GIS Object\n",
    "try:\n",
    "    from osm_runner import gen_osm_sdf\n",
    "except:\n",
    "    !pip install osm_runner\n",
    "    from osm_runner import gen_osm_sdf\n",
    "\n",
    "\n",
    "from arcgis.gis import GIS\n",
    "\n",
    "# Transformations & Geometries for ArcGIS Item Creation\n",
    "try:\n",
    "    from pyproj import Proj, transform\n",
    "    import shapefile\n",
    "except:\n",
    "    !conda install pyproj --yes\n",
    "    from pyproj import Proj, transform\n",
    "    import shapefile\n",
    "\n",
    "# Other Libraries\n",
    "from collections import OrderedDict\n",
    "import time\n",
    "\n",
    "# Organization Login\n",
    "gis = GIS('http://www.arcgis.com', '9Ionut', 'ESRI2019')"
   ]
  },
  {
   "cell_type": "code",
   "execution_count": 2,
   "metadata": {},
   "outputs": [],
   "source": [
    "# Set OSM Tags with Friendly Names\n",
    "osm_tag_dict = {\n",
    "    \"Aerialway\": \"aerialway\",\n",
    "    \"Aeroway\": \"aeroway\",\n",
    "    \"Amenity\": \"amenity\",\n",
    "    \"Barrier\": \"barrier\",\n",
    "    \"Boundary\": \"boundary\",\n",
    "    \"Building\": \"building\",\n",
    "    \"Craft\": \"craft\",\n",
    "    \"Emergency\": \"emergency\",\n",
    "    \"Geological\": \"geological\",\n",
    "    \"Highway\": \"highway\",\n",
    "    \"Historic\": \"historic\",\n",
    "    \"Landuse\": \"landuse\",\n",
    "    \"Leisure\": \"leisure\",\n",
    "    \"Man Made\": \"man_made\",\n",
    "    \"Military\": \"military\",\n",
    "    \"Natural\": \"natural\",\n",
    "    \"Office\": \"office\",\n",
    "    \"Place\": \"place\",\n",
    "    \"Power\": \"power\",\n",
    "    \"Public Transport\": \"public transport\",\n",
    "    \"Railway\": \"railway\",\n",
    "    \"Route\": \"route\",\n",
    "    \"Shop\": \"shop\",\n",
    "    \"Sport\": \"sport\",\n",
    "    \"Tourism\": \"tourism\",\n",
    "    \"Waterway\": \"waterway\"\n",
    "}"
   ]
  },
  {
   "cell_type": "code",
   "execution_count": 3,
   "metadata": {},
   "outputs": [],
   "source": [
    "# Converting Map Widget Extent into a Tuple for OSM Query\n",
    "def collect_extent(e):\n",
    "    \n",
    "    # Strip Min/Max For Geometry Iterable\n",
    "    min_set = {k[:1]: v for k, v in e.items() if k in ['ymin', 'xmin']}\n",
    "    max_set = {k[:1]: v for k, v in e.items() if k in ['ymax', 'xmax']}\n",
    "\n",
    "    box = []\n",
    "    \n",
    "    for geo_set in [min_set, max_set]:\n",
    "        \n",
    "        incoming_wkid = e.get('spatialReference')['latestWkid']\n",
    "        \n",
    "        if incoming_wkid == 4326:\n",
    "            box.append(geo_set['y'])\n",
    "            box.append(geo_set['x'])\n",
    "        else:   \n",
    "            p1 = Proj(init='epsg:{}'.format(incoming_wkid))\n",
    "            p2 = Proj(proj='latlong', datum='WGS84')\n",
    "            x, y = transform(p1, p2, geo_set['x'], geo_set['y'])\n",
    "            box.append(y)\n",
    "            box.append(x)\n",
    "\n",
    "    return tuple(box)"
   ]
  },
  {
   "cell_type": "code",
   "execution_count": 4,
   "metadata": {},
   "outputs": [],
   "source": [
    "# on_click() Logic\n",
    "def running(button_object):\n",
    "\n",
    "    global sdf\n",
    "    \n",
    "    clear_output()\n",
    "    \n",
    "    # Pull Values From Inputs\n",
    "    geo_val = geo_sel.value\n",
    "    osm_val = osm_sel.value\n",
    "    bbox    = collect_extent(viz_map.extent)\n",
    "    \n",
    "    # Get Date YYYY-MM-DD From DatePicker\n",
    "    t_1_val = str(t_1_sel.value)[:10] if t_1_sel.value else None\n",
    "    t_2_val = str(t_2_sel.value)[:10] if t_2_sel.value else None\n",
    "    \n",
    "    try:\n",
    "        print('Fetching Data From OpenStreetMap . . .')\n",
    "        sdf = gen_osm_sdf(geo_val, bbox, osm_val, t_1_val, t_2_val)\n",
    "         \n",
    "    except Exception as e:\n",
    "        print('Request Could Not Be Completed')\n",
    "        print('{}'.format(str(e)))\n",
    "        return\n",
    "    \n",
    "    else:\n",
    "        print('Features Returned: {}'.format(len(sdf)))\n",
    "        sdf_fs = sdf.to_featureset()\n",
    "        \n",
    "        for feature in sdf_fs:\n",
    "            # Create Popup\n",
    "            viz_map.draw(\n",
    "                feature.geometry,\n",
    "                popup={\n",
    "                    'title': 'OSM ID: ' + feature.attributes['osm_id'],\n",
    "                    'content': \"{}\".format(\n",
    "                        '<br/>'.join([\n",
    "                            '%s: %s' % (key.upper(), value) for (key, value) in feature.attributes.items()\n",
    "                        ])\n",
    "                    )\n",
    "                }\n",
    "            )"
   ]
  },
  {
   "cell_type": "code",
   "execution_count": 5,
   "metadata": {},
   "outputs": [
    {
     "data": {
      "text/html": [
       "<style>\n",
       ".intro {\n",
       "    padding: 10px; \n",
       "    color: #202020;\n",
       "    font-family: 'Helvetica';\n",
       "}\n",
       ".map {\n",
       "    border: solid;\n",
       "    height: 450px;\n",
       "}\n",
       "</style>\n"
      ],
      "text/plain": [
       "<IPython.core.display.HTML object>"
      ]
     },
     "metadata": {},
     "output_type": "display_data"
    }
   ],
   "source": [
    "%%html\n",
    "<style>\n",
    ".intro {\n",
    "    padding: 10px; \n",
    "    color: #202020;\n",
    "    font-family: 'Helvetica';\n",
    "}\n",
    ".map {\n",
    "    border: solid;\n",
    "    height: 450px;\n",
    "}\n",
    "</style>"
   ]
  },
  {
   "cell_type": "code",
   "execution_count": 6,
   "metadata": {},
   "outputs": [
    {
     "data": {
      "application/vnd.jupyter.widget-view+json": {
       "model_id": "680007d397ee4e3eb0230e05ce76ba55",
       "version_major": 2,
       "version_minor": 0
      },
      "text/plain": [
       "MapView(layout=Layout(height='400px', width='100%'))"
      ]
     },
     "metadata": {},
     "output_type": "display_data"
    },
    {
     "data": {
      "text/html": [
       "<div class=\"map-static-img-preview-ec7fdb20-70ad-4a60-b4fa-f7032e2190cd\"><img src=\"\"></img></div>"
      ],
      "text/plain": [
       "<IPython.core.display.HTML object>"
      ]
     },
     "metadata": {},
     "output_type": "display_data"
    },
    {
     "data": {
      "application/vnd.jupyter.widget-view+json": {
       "model_id": "b5b61ec1c96441378611ba71ebfb89eb",
       "version_major": 2,
       "version_minor": 0
      },
      "text/plain": [
       "HBox(children=(Dropdown(description='Geometry', index=2, options=('Point', 'Line', 'Polygon'), value='Polygon'…"
      ]
     },
     "metadata": {},
     "output_type": "display_data"
    }
   ],
   "source": [
    "# Create & Display Map\n",
    "viz_map = gis.map('Smithsonian')\n",
    "display(viz_map)\n",
    "\n",
    "# Set Options For Return Geometry\n",
    "geo_sel = widgets.Dropdown(\n",
    "    options=['Point', 'Line', 'Polygon'],\n",
    "    description='Geometry',\n",
    "    value='Polygon'\n",
    ")\n",
    "\n",
    "# Set Options for OSM Tags\n",
    "osm_sel = widgets.Dropdown(\n",
    "    options=(sorted(osm_tag_dict.items(), key=lambda item: item[0])),\n",
    "    description='Feature',\n",
    "    value='building'\n",
    ")\n",
    "\n",
    "# Set Options for Time Selection\n",
    "t_1_sel = widgets.DatePicker(description='Start Date')\n",
    "t_2_sel = widgets.DatePicker(description='End Date')\n",
    "\n",
    "# Create Submit Button & Set on_click\n",
    "run_btn = widgets.Button(\n",
    "    description='Fetch OSM',\n",
    "    button_style='success',\n",
    "    tooltip='Query OSM and View in Map Widget',\n",
    "    layout=widgets.Layout(justify_content='center', margin='0px 0px 0px 10px')\n",
    ")\n",
    "run_btn.on_click(running)\n",
    "\n",
    "# Handle Widget Layout\n",
    "params = widgets.HBox(\n",
    "    [geo_sel, osm_sel, t_1_sel, t_2_sel, run_btn], \n",
    "    layout=widgets.Layout(justify_content='center', margin='10px')\n",
    ")\n",
    "display(params)"
   ]
  },
  {
   "cell_type": "code",
   "execution_count": 7,
   "metadata": {},
   "outputs": [],
   "source": [
    "def to_agol(button_object):\n",
    "    \n",
    "    clear_output()\n",
    "    \n",
    "    txt_val = txt_sel.value\n",
    "    \n",
    "    try:\n",
    "        sdf\n",
    "        \n",
    "    except NameError:\n",
    "        print('Please Collect Data with Fetch OSM Data First . . .')\n",
    "        \n",
    "    else:\n",
    "        print('Creating Feature Layer in ArcGIS Online . . .')\n",
    "        feat_lyr = sdf.to_featurelayer(\n",
    "            '{}_{}'.format(txt_val, int(time.time())),\n",
    "            gis=gis, \n",
    "            tags='OSM Runner'\n",
    "        )\n",
    "\n",
    "        display(feat_lyr)\n",
    "        viz_map.add_layer(feat_lyr)"
   ]
  },
  {
   "cell_type": "code",
   "execution_count": 8,
   "metadata": {},
   "outputs": [
    {
     "data": {
      "application/vnd.jupyter.widget-view+json": {
       "model_id": "84b58483d8214d5fb23687ced2f80408",
       "version_major": 2,
       "version_minor": 0
      },
      "text/plain": [
       "HBox(children=(Text(value='OSM Features', description='Name'), Button(button_style='primary', description='Pus…"
      ]
     },
     "metadata": {},
     "output_type": "display_data"
    }
   ],
   "source": [
    "txt_sel = widgets.Text(description='Name', value='OSM Features')\n",
    "\n",
    "add_btn = widgets.Button(\n",
    "    description='Push OSM to ArcGIS',\n",
    "    button_style='primary',\n",
    "    tooltip='Create Content in ArcGIS Online'\n",
    ")\n",
    "add_btn.on_click(to_agol)\n",
    "\n",
    "add_box = widgets.HBox([txt_sel, add_btn], layout=widgets.Layout(justify_content='center', margin='10px'))\n",
    "display(add_box)"
   ]
  },
  {
   "cell_type": "code",
   "execution_count": null,
   "metadata": {},
   "outputs": [],
   "source": []
  }
 ],
 "metadata": {
  "kernelspec": {
   "display_name": "Python 3",
   "language": "python",
   "name": "python3"
  },
  "language_info": {
   "codemirror_mode": {
    "name": "ipython",
    "version": 3
   },
   "file_extension": ".py",
   "mimetype": "text/x-python",
   "name": "python",
   "nbconvert_exporter": "python",
   "pygments_lexer": "ipython3",
   "version": "3.6.9"
  }
 },
 "nbformat": 4,
 "nbformat_minor": 2
}
