{
 "cells": [
  {
   "cell_type": "code",
   "execution_count": 1,
   "metadata": {},
   "outputs": [],
   "source": [
    "from arcgis.gis import GIS\n",
    "from arcgis.geocoding import geocode\n",
    "from IPython.display import display"
   ]
  },
  {
   "cell_type": "code",
   "execution_count": 2,
   "metadata": {},
   "outputs": [
    {
     "data": {
      "application/vnd.jupyter.widget-view+json": {
       "model_id": "3a441008dd384240bcfe94ddaf9f5508",
       "version_major": 2,
       "version_minor": 0
      },
      "text/plain": [
       "MapView(layout=Layout(height='400px', width='100%'))"
      ]
     },
     "metadata": {},
     "output_type": "display_data"
    },
    {
     "data": {
      "text/html": [
       "<div class=\"map-static-img-preview-db6df9cb-cad8-40a9-8070-ac8afd64a8ae\"><img src=\"\"></img></div>"
      ],
      "text/plain": [
       "<IPython.core.display.HTML object>"
      ]
     },
     "metadata": {},
     "output_type": "display_data"
    }
   ],
   "source": [
    "gis = GIS()\n",
    "map1 = gis.map()\n",
    "map1"
   ]
  },
  {
   "cell_type": "code",
   "execution_count": 3,
   "metadata": {},
   "outputs": [],
   "source": [
    "# set the map's extent by geocoding the location\n",
    "diegogarcia = geocode('Diego Garcia')[0]\n",
    "map1.extent = diegogarcia['extent']"
   ]
  },
  {
   "cell_type": "code",
   "execution_count": 4,
   "metadata": {},
   "outputs": [],
   "source": [
    "# geocode location of La Reunion island\n",
    "lareunion = geocode('La Reunion')[0]"
   ]
  },
  {
   "cell_type": "code",
   "execution_count": 5,
   "metadata": {},
   "outputs": [],
   "source": [
    "# Annotate the map by plotting Diego Garcia, and two other search locations\n",
    "map1.draw(lareunion['location'], {\"title\": \"Reunion Island\", \"content\": \"Debris found\"})\n",
    "map1.draw(diegogarcia['location'], {\"title\": \"Diego Garcia\", \"content\": \"Naval Support Facility Diego Garcia\"})\n",
    "map1.draw([-43.5, 90.5], {\"title\": \"Search Location\", \"content\": \"Predicted crash location\"})\n",
    "\n",
    "# Render a feature layer representing the search area\n",
    "# Source: http://www.amsa.gov.au/media/incidents/images/DIGO_00718_01_14.jpg\n",
    "map1.add_layer({\"type\": \"FeatureLayer\",\n",
    "                \"url\": \"http://services.arcgis.com/WQ9KVmV6xGGMnCiQ/arcgis/rest/services/MH370Search/FeatureServer/1\"})"
   ]
  },
  {
   "cell_type": "code",
   "execution_count": 6,
   "metadata": {},
   "outputs": [
    {
     "data": {
      "text/html": [
       "<div class=\"item_container\" style=\"height: auto; overflow: hidden; border: 1px solid #cfcfcf; border-radius: 2px; background: #f6fafa; line-height: 1.21429em; padding: 10px;\">\n",
       "                    <div class=\"item_left\" style=\"width: 210px; float: left;\">\n",
       "                       <a href='https://www.arcgis.com/home/item.html?id=9683ff156fc348558482a4bcff30e695' target='_blank'>\n",
       "                        <img src='https://www.arcgis.com/sharing/rest//content/items/9683ff156fc348558482a4bcff30e695/info/thumbnail/ScreenCapture.JPG' class=\"itemThumbnail\">\n",
       "                       </a>\n",
       "                    </div>\n",
       "\n",
       "                    <div class=\"item_right\"     style=\"float: none; width: auto; overflow: hidden;\">\n",
       "                        <a href='https://www.arcgis.com/home/item.html?id=9683ff156fc348558482a4bcff30e695' target='_blank'><b>Possible_MH370_Debris_Recovered</b>\n",
       "                        </a>\n",
       "                        <br/>Possible MH370 Debris Recovered<img src='https://www.arcgis.com/home/js/jsapi/esri/css/images/item_type_icons/featureshosted16.png' style=\"vertical-align:middle;\">Feature Layer Collection by geoscienceaustralia\n",
       "                        <br/>Last Modified: July 24, 2018\n",
       "                        <br/>0 comments, 34,693 views\n",
       "                    </div>\n",
       "                </div>\n",
       "                "
      ],
      "text/plain": [
       "<Item title:\"Possible_MH370_Debris_Recovered\" type:Feature Layer Collection owner:geoscienceaustralia>"
      ]
     },
     "metadata": {},
     "output_type": "display_data"
    },
    {
     "data": {
      "text/html": [
       "<div class=\"item_container\" style=\"height: auto; overflow: hidden; border: 1px solid #cfcfcf; border-radius: 2px; background: #f6fafa; line-height: 1.21429em; padding: 10px;\">\n",
       "                    <div class=\"item_left\" style=\"width: 210px; float: left;\">\n",
       "                       <a href='https://www.arcgis.com/home/item.html?id=4c94d33cfc144f7d8b78943dee56e29b' target='_blank'>\n",
       "                        <img src='https://www.arcgis.com/sharing/rest//content/items/4c94d33cfc144f7d8b78943dee56e29b/info/thumbnail/ScreenCapture.JPG' class=\"itemThumbnail\">\n",
       "                       </a>\n",
       "                    </div>\n",
       "\n",
       "                    <div class=\"item_right\"     style=\"float: none; width: auto; overflow: hidden;\">\n",
       "                        <a href='https://www.arcgis.com/home/item.html?id=4c94d33cfc144f7d8b78943dee56e29b' target='_blank'><b>The_7th_Arc</b>\n",
       "                        </a>\n",
       "                        <br/>The 7th Arc, Single Line version.<img src='https://www.arcgis.com/home/js/jsapi/esri/css/images/item_type_icons/featureshosted16.png' style=\"vertical-align:middle;\">Feature Layer Collection by geoscienceaustralia\n",
       "                        <br/>Last Modified: July 24, 2018\n",
       "                        <br/>0 comments, 266,293 views\n",
       "                    </div>\n",
       "                </div>\n",
       "                "
      ],
      "text/plain": [
       "<Item title:\"The_7th_Arc\" type:Feature Layer Collection owner:geoscienceaustralia>"
      ]
     },
     "metadata": {},
     "output_type": "display_data"
    },
    {
     "data": {
      "text/html": [
       "<div class=\"item_container\" style=\"height: auto; overflow: hidden; border: 1px solid #cfcfcf; border-radius: 2px; background: #f6fafa; line-height: 1.21429em; padding: 10px;\">\n",
       "                    <div class=\"item_left\" style=\"width: 210px; float: left;\">\n",
       "                       <a href='https://www.arcgis.com/home/item.html?id=53b12c81b3024726936859b84fa6692a' target='_blank'>\n",
       "                        <img src='https://www.arcgis.com/sharing/rest//content/items/53b12c81b3024726936859b84fa6692a/info/thumbnail/ago_downloaded.png' class=\"itemThumbnail\">\n",
       "                       </a>\n",
       "                    </div>\n",
       "\n",
       "                    <div class=\"item_right\"     style=\"float: none; width: auto; overflow: hidden;\">\n",
       "                        <a href='https://www.arcgis.com/home/item.html?id=53b12c81b3024726936859b84fa6692a' target='_blank'><b>MH370 Phase 2 contacts</b>\n",
       "                        </a>\n",
       "                        <br/>Phase two contact locations<img src='https://www.arcgis.com/home/js/jsapi/esri/css/images/item_type_icons/featureshosted16.png' style=\"vertical-align:middle;\">Feature Layer Collection by geoscienceaustralia\n",
       "                        <br/>Last Modified: July 24, 2018\n",
       "                        <br/>0 comments, 5,147 views\n",
       "                    </div>\n",
       "                </div>\n",
       "                "
      ],
      "text/plain": [
       "<Item title:\"MH370 Phase 2 contacts\" type:Feature Layer Collection owner:geoscienceaustralia>"
      ]
     },
     "metadata": {},
     "output_type": "display_data"
    },
    {
     "data": {
      "text/html": [
       "<div class=\"item_container\" style=\"height: auto; overflow: hidden; border: 1px solid #cfcfcf; border-radius: 2px; background: #f6fafa; line-height: 1.21429em; padding: 10px;\">\n",
       "                    <div class=\"item_left\" style=\"width: 210px; float: left;\">\n",
       "                       <a href='https://www.arcgis.com/home/item.html?id=f20abdfe3acd445fbb9613bc672b73e7' target='_blank'>\n",
       "                        <img src='https://www.arcgis.com/sharing/rest//content/items/f20abdfe3acd445fbb9613bc672b73e7/info/thumbnail/ScreenCapture.JPG' class=\"itemThumbnail\">\n",
       "                       </a>\n",
       "                    </div>\n",
       "\n",
       "                    <div class=\"item_right\"     style=\"float: none; width: auto; overflow: hidden;\">\n",
       "                        <a href='https://www.arcgis.com/home/item.html?id=f20abdfe3acd445fbb9613bc672b73e7' target='_blank'><b>Search_And_Rescue_Search_Area</b>\n",
       "                        </a>\n",
       "                        <br/>Surface Search Area conducted by Australian Maritime Safety Authority (AMSA) March 17 2014 to 29 April 2014. Surface Search used international aviation and...<img src='https://www.arcgis.com/home/js/jsapi/esri/css/images/item_type_icons/featureshosted16.png' style=\"vertical-align:middle;\">Feature Layer Collection by geoscienceaustralia\n",
       "                        <br/>Last Modified: July 24, 2018\n",
       "                        <br/>0 comments, 84,573 views\n",
       "                    </div>\n",
       "                </div>\n",
       "                "
      ],
      "text/plain": [
       "<Item title:\"Search_And_Rescue_Search_Area\" type:Feature Layer Collection owner:geoscienceaustralia>"
      ]
     },
     "metadata": {},
     "output_type": "display_data"
    },
    {
     "data": {
      "text/html": [
       "<div class=\"item_container\" style=\"height: auto; overflow: hidden; border: 1px solid #cfcfcf; border-radius: 2px; background: #f6fafa; line-height: 1.21429em; padding: 10px;\">\n",
       "                    <div class=\"item_left\" style=\"width: 210px; float: left;\">\n",
       "                       <a href='https://www.arcgis.com/home/item.html?id=86a1b6e71af74979ba38095543d48f07' target='_blank'>\n",
       "                        <img src='https://www.arcgis.com/sharing/rest//content/items/86a1b6e71af74979ba38095543d48f07/info/thumbnail/thumbnail.png' class=\"itemThumbnail\">\n",
       "                       </a>\n",
       "                    </div>\n",
       "\n",
       "                    <div class=\"item_right\"     style=\"float: none; width: auto; overflow: hidden;\">\n",
       "                        <a href='https://www.arcgis.com/home/item.html?id=86a1b6e71af74979ba38095543d48f07' target='_blank'><b>MH370_Flight_Path</b>\n",
       "                        </a>\n",
       "                        <br/>MH370 Flight Path<img src='https://www.arcgis.com/home/js/jsapi/esri/css/images/item_type_icons/featureshosted16.png' style=\"vertical-align:middle;\">Feature Layer Collection by bflanagan_bureau\n",
       "                        <br/>Last Modified: February 25, 2015\n",
       "                        <br/>0 comments, 30,325 views\n",
       "                    </div>\n",
       "                </div>\n",
       "                "
      ],
      "text/plain": [
       "<Item title:\"MH370_Flight_Path\" type:Feature Layer Collection owner:bflanagan_bureau>"
      ]
     },
     "metadata": {},
     "output_type": "display_data"
    },
    {
     "data": {
      "text/html": [
       "<div class=\"item_container\" style=\"height: auto; overflow: hidden; border: 1px solid #cfcfcf; border-radius: 2px; background: #f6fafa; line-height: 1.21429em; padding: 10px;\">\n",
       "                    <div class=\"item_left\" style=\"width: 210px; float: left;\">\n",
       "                       <a href='https://www.arcgis.com/home/item.html?id=b05c13f1f0db4c41b7b0e218ce28a6df' target='_blank'>\n",
       "                        <img src='https://www.arcgis.com/sharing/rest//content/items/b05c13f1f0db4c41b7b0e218ce28a6df/info/thumbnail/ScreenCapture.JPG' class=\"itemThumbnail\">\n",
       "                       </a>\n",
       "                    </div>\n",
       "\n",
       "                    <div class=\"item_right\"     style=\"float: none; width: auto; overflow: hidden;\">\n",
       "                        <a href='https://www.arcgis.com/home/item.html?id=b05c13f1f0db4c41b7b0e218ce28a6df' target='_blank'><b>RADAR_Polylines</b>\n",
       "                        </a>\n",
       "                        <br/>Radar track showing aircraft deviation from flight-planned route.<img src='https://www.arcgis.com/home/js/jsapi/esri/css/images/item_type_icons/featureshosted16.png' style=\"vertical-align:middle;\">Feature Layer Collection by geoscienceaustralia\n",
       "                        <br/>Last Modified: July 24, 2018\n",
       "                        <br/>0 comments, 117,179 views\n",
       "                    </div>\n",
       "                </div>\n",
       "                "
      ],
      "text/plain": [
       "<Item title:\"RADAR_Polylines\" type:Feature Layer Collection owner:geoscienceaustralia>"
      ]
     },
     "metadata": {},
     "output_type": "display_data"
    }
   ],
   "source": [
    "mh370items = gis.content.search(\"MH370\", \"feature service\", max_items=6)\n",
    "for item in mh370items:\n",
    "    display(item)"
   ]
  },
  {
   "cell_type": "code",
   "execution_count": 7,
   "metadata": {},
   "outputs": [],
   "source": [
    "map1.add_layer(mh370items[0])\n",
    "map1.add_layer(mh370items[4])\n",
    "map1.add_layer(mh370items[5])"
   ]
  },
  {
   "cell_type": "code",
   "execution_count": 8,
   "metadata": {},
   "outputs": [],
   "source": [
    "map1.zoom = 6"
   ]
  },
  {
   "cell_type": "markdown",
   "metadata": {},
   "source": [
    "# Using geoprocessing tools"
   ]
  },
  {
   "cell_type": "code",
   "execution_count": 9,
   "metadata": {},
   "outputs": [
    {
     "data": {
      "text/html": [
       "<div class=\"item_container\" style=\"height: auto; overflow: hidden; border: 1px solid #cfcfcf; border-radius: 2px; background: #f6fafa; line-height: 1.21429em; padding: 10px;\">\n",
       "                    <div class=\"item_left\" style=\"width: 210px; float: left;\">\n",
       "                       <a href='https://www.arcgis.com/home/item.html?id=45993af260f14ec8abb68cb212fda0e4' target='_blank'>\n",
       "                        <img src='https://www.arcgis.com/sharing/rest//content/items/45993af260f14ec8abb68cb212fda0e4/info/thumbnail/thu313C.png' class=\"itemThumbnail\">\n",
       "                       </a>\n",
       "                    </div>\n",
       "\n",
       "                    <div class=\"item_right\"     style=\"float: none; width: auto; overflow: hidden;\">\n",
       "                        <a href='https://www.arcgis.com/home/item.html?id=45993af260f14ec8abb68cb212fda0e4' target='_blank'><b>Farthest On Circle</b>\n",
       "                        </a>\n",
       "                        <br/>Caclulates the farthest on circle for a vessel.<img src='https://www.arcgis.com/home/js/jsapi/esri/css/images/item_type_icons/layers16.png' style=\"vertical-align:middle;\">Geoprocessing Toolbox by johnfry10\n",
       "                        <br/>Last Modified: July 09, 2015\n",
       "                        <br/>0 comments, 25 views\n",
       "                    </div>\n",
       "                </div>\n",
       "                "
      ],
      "text/plain": [
       "<Item title:\"Farthest On Circle\" type:Geoprocessing Toolbox owner:johnfry10>"
      ]
     },
     "execution_count": 9,
     "metadata": {},
     "output_type": "execute_result"
    }
   ],
   "source": [
    "toolbox_item = gis.content.search(\"Ocean Currents\", item_type=\"geoprocessing toolbox\", max_items=1)[0]\n",
    "toolbox_item"
   ]
  },
  {
   "cell_type": "code",
   "execution_count": null,
   "metadata": {},
   "outputs": [],
   "source": [
    "from arcgis.geoprocessing import import_toolbox\n",
    "ocean_currents = import_toolbox(toolbox_item)"
   ]
  },
  {
   "cell_type": "code",
   "execution_count": null,
   "metadata": {},
   "outputs": [],
   "source": [
    "help(ocean_currents.message_in_a_bottle)"
   ]
  },
  {
   "cell_type": "code",
   "execution_count": null,
   "metadata": {},
   "outputs": [],
   "source": [
    "from arcgis.features import FeatureSet, Feature\n",
    "\n",
    "def do_analysis(m, g):\n",
    "    print(\"Computing the path that debris would take...\")\n",
    "    \n",
    "    # Parameter 'g' contains the co-ordinates of the clicked location\n",
    "    \n",
    "    # Construct a FeatureSet object from the clicked location\n",
    "    my_feature_set = FeatureSet([Feature(g)])\n",
    "    \n",
    "    # Pass the input location as a FeatureSet\n",
    "    ret = ocean_currents.message_in_a_bottle(my_feature_set, 150)\n",
    "    \n",
    "    # Render the resulting FeatureSet on the map using 'draw()' method\n",
    "    map1.draw(ret)\n",
    "\n",
    "# et the callback function that performs analysis.\n",
    "# The 'do_analysis' function is called whenever user clicks on the map.\n",
    "map1.on_click(do_analysis)"
   ]
  },
  {
   "cell_type": "code",
   "execution_count": null,
   "metadata": {},
   "outputs": [],
   "source": []
  }
 ],
 "metadata": {
  "kernelspec": {
   "display_name": "Python 3",
   "language": "python",
   "name": "python3"
  },
  "language_info": {
   "codemirror_mode": {
    "name": "ipython",
    "version": 3
   },
   "file_extension": ".py",
   "mimetype": "text/x-python",
   "name": "python",
   "nbconvert_exporter": "python",
   "pygments_lexer": "ipython3",
   "version": "3.6.7"
  }
 },
 "nbformat": 4,
 "nbformat_minor": 2
}
