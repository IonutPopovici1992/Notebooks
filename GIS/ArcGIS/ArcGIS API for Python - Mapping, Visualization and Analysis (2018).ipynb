{
 "cells": [
  {
   "cell_type": "markdown",
   "metadata": {},
   "source": [
    "# Visualization with ArcGIS smart mapping"
   ]
  },
  {
   "cell_type": "markdown",
   "metadata": {},
   "source": [
    "## Smart mapping of line features"
   ]
  },
  {
   "cell_type": "code",
   "execution_count": 1,
   "metadata": {},
   "outputs": [],
   "source": [
    "from arcgis.gis import *\n",
    "gis = GIS()"
   ]
  },
  {
   "cell_type": "code",
   "execution_count": 2,
   "metadata": {},
   "outputs": [
    {
     "data": {
      "application/vnd.jupyter.widget-view+json": {
       "model_id": "f50896c68cca4d51b60b34ef4d9a9cd3",
       "version_major": 2,
       "version_minor": 0
      },
      "text/plain": [
       "MapView(layout=Layout(height='400px', width='100%'), zoom=4.0)"
      ]
     },
     "metadata": {},
     "output_type": "display_data"
    },
    {
     "data": {
      "text/html": [
       "<div class=\"map-static-img-preview-92f3b032-5eea-4359-b630-7dac0581831b\"><img src=\"\"></img></div>"
      ],
      "text/plain": [
       "<IPython.core.display.HTML object>"
      ]
     },
     "metadata": {},
     "output_type": "display_data"
    }
   ],
   "source": [
    "map1 = gis.map('USA', 4)\n",
    "map1"
   ]
  },
  {
   "cell_type": "code",
   "execution_count": 3,
   "metadata": {},
   "outputs": [
    {
     "data": {
      "text/plain": [
       "[<Item title:\"USA Freeway System\" type:Feature Layer Collection owner:esri>]"
      ]
     },
     "execution_count": 3,
     "metadata": {},
     "output_type": "execute_result"
    }
   ],
   "source": [
    "search_result = gis.content.search('title: USA Freeway System AND owner: esri',\n",
    "                                   item_type='Feature Layer')\n",
    "search_result"
   ]
  },
  {
   "cell_type": "code",
   "execution_count": 4,
   "metadata": {},
   "outputs": [],
   "source": [
    "freeway_item = search_result[0]\n",
    "map1.add_layer(freeway_item)"
   ]
  },
  {
   "cell_type": "markdown",
   "metadata": {},
   "source": [
    "### Display the fields"
   ]
  },
  {
   "cell_type": "code",
   "execution_count": 5,
   "metadata": {},
   "outputs": [
    {
     "data": {
      "text/plain": [
       "[<FeatureLayer url:\"https://services.arcgis.com/P3ePLMYs2RVChkJx/arcgis/rest/services/USA_Freeway_System/FeatureServer/1\">,\n",
       " <FeatureLayer url:\"https://services.arcgis.com/P3ePLMYs2RVChkJx/arcgis/rest/services/USA_Freeway_System/FeatureServer/2\">]"
      ]
     },
     "execution_count": 5,
     "metadata": {},
     "output_type": "execute_result"
    }
   ],
   "source": [
    "freeway_item.layers"
   ]
  },
  {
   "cell_type": "code",
   "execution_count": 6,
   "metadata": {},
   "outputs": [
    {
     "name": "stdout",
     "output_type": "stream",
     "text": [
      "https://services.arcgis.com/P3ePLMYs2RVChkJx/arcgis/rest/services/USA_Freeway_System/FeatureServer/1\n",
      "OBJECTID \t esriFieldTypeOID\n",
      "ROUTE_NUM \t esriFieldTypeString\n",
      "CLASS \t esriFieldTypeString\n",
      "NUMBER \t esriFieldTypeString\n",
      "SUFFIX \t esriFieldTypeString\n",
      "DIST_MILES \t esriFieldTypeDouble\n",
      "DIST_KM \t esriFieldTypeDouble\n"
     ]
    }
   ],
   "source": [
    "# Use the first layer available on the service\n",
    "freeway_feature_layer = freeway_item.layers[0]\n",
    "\n",
    "# Print the layer's url and field names.\n",
    "print(freeway_feature_layer.url)\n",
    "for field in freeway_feature_layer.properties['fields']:\n",
    "    print(field['name'] + \" \\t \" + field['type'])"
   ]
  },
  {
   "cell_type": "code",
   "execution_count": 7,
   "metadata": {},
   "outputs": [],
   "source": [
    "map1.add_layer(freeway_feature_layer, {\"renderer\": \"ClassedSizeRenderer\", \"field_name\": \"DIST_MILES\"})"
   ]
  },
  {
   "cell_type": "code",
   "execution_count": 8,
   "metadata": {},
   "outputs": [],
   "source": [
    "# Change map's extent to San Diego, CA\n",
    "map1.center = [32.715, -117.1]"
   ]
  },
  {
   "cell_type": "code",
   "execution_count": null,
   "metadata": {},
   "outputs": [],
   "source": [
    "map1.zoom = 10"
   ]
  },
  {
   "cell_type": "markdown",
   "metadata": {},
   "source": [
    "# Visualizing area features"
   ]
  },
  {
   "cell_type": "markdown",
   "metadata": {},
   "source": [
    "## Use definition queries to limit data during rendering"
   ]
  },
  {
   "cell_type": "code",
   "execution_count": null,
   "metadata": {},
   "outputs": [
    {
     "data": {
      "application/vnd.jupyter.widget-view+json": {
       "model_id": "b3564d6efafb4eaf853ce0f518cb06bb",
       "version_major": 2,
       "version_minor": 0
      },
      "text/plain": [
       "MapView(layout=Layout(height='400px', width='100%'), zoom=6.0)"
      ]
     },
     "metadata": {},
     "output_type": "display_data"
    },
    {
     "data": {
      "text/html": [
       "<div class=\"map-static-img-preview-21b621e7-2b74-4fee-a99f-96ff1add6d77\"><img src=\"\"></img></div>"
      ],
      "text/plain": [
       "<IPython.core.display.HTML object>"
      ]
     },
     "metadata": {},
     "output_type": "display_data"
    }
   ],
   "source": [
    "map2 = gis.map('California', 6)\n",
    "map2"
   ]
  },
  {
   "cell_type": "code",
   "execution_count": null,
   "metadata": {},
   "outputs": [
    {
     "data": {
      "text/plain": [
       "[<Item title:\"USA Block Groups\" type:Feature Layer Collection owner:esri_dm>,\n",
       " <Item title:\"USA Tracts\" type:Feature Layer Collection owner:esri_dm>,\n",
       " <Item title:\"USA Counties\" type:Feature Layer Collection owner:esri_dm>,\n",
       " <Item title:\"USA Counties (Generalized)\" type:Feature Layer Collection owner:esri_dm>,\n",
       " <Item title:\"USA Counties\" type:Feature Layer Collection owner:esri_dm>,\n",
       " <Item title:\"USA Counties (Generalized)\" type:Feature Layer Collection owner:esri_dm>]"
      ]
     },
     "execution_count": 11,
     "metadata": {},
     "output_type": "execute_result"
    }
   ],
   "source": [
    "county_search = gis.content.search(\"title: USA Counties & owner: esri_dm\", item_type=\"Feature Layer\")\n",
    "county_search"
   ]
  },
  {
   "cell_type": "code",
   "execution_count": null,
   "metadata": {},
   "outputs": [
    {
     "data": {
      "text/plain": [
       "[<FeatureLayer url:\"https://services.arcgis.com/P3ePLMYs2RVChkJx/arcgis/rest/services/USA_Block_Groups/FeatureServer/0\">]"
      ]
     },
     "execution_count": 12,
     "metadata": {},
     "output_type": "execute_result"
    }
   ],
   "source": [
    "county_item = county_search[0]\n",
    "county_item.layers"
   ]
  },
  {
   "cell_type": "code",
   "execution_count": null,
   "metadata": {},
   "outputs": [
    {
     "data": {
      "text/html": [
       "<div class=\"item_container\" style=\"height: auto; overflow: hidden; border: 1px solid #cfcfcf; border-radius: 2px; background: #f6fafa; line-height: 1.21429em; padding: 10px;\">\n",
       "                    <div class=\"item_left\" style=\"width: 210px; float: left;\">\n",
       "                       <a href='https://www.arcgis.com/home/item.html?id=d3a11165055747068a5a456c2e2f0e31' target='_blank'>\n",
       "                        <img src='https://www.arcgis.com/sharing/rest//content/items/d3a11165055747068a5a456c2e2f0e31/info/thumbnail/usa_blockgroup.jpg' class=\"itemThumbnail\">\n",
       "                       </a>\n",
       "                    </div>\n",
       "\n",
       "                    <div class=\"item_right\"     style=\"float: none; width: auto; overflow: hidden;\">\n",
       "                        <a href='https://www.arcgis.com/home/item.html?id=d3a11165055747068a5a456c2e2f0e31' target='_blank'><b>USA Block Groups</b>\n",
       "                        </a>\n",
       "                        <br/>This layer presents the census block groups of the United States in the 50 states, the District of Columbia, and Puerto Rico.<img src='https://www.arcgis.com/home/js/jsapi/esri/css/images/item_type_icons/featureshosted16.png' style=\"vertical-align:middle;\">Feature Layer Collection by esri_dm\n",
       "                        <br/>Last Modified: October 30, 2018\n",
       "                        <br/>0 comments, 35,021 views\n",
       "                    </div>\n",
       "                </div>\n",
       "                "
      ],
      "text/plain": [
       "<Item title:\"USA Block Groups\" type:Feature Layer Collection owner:esri_dm>"
      ]
     },
     "execution_count": 13,
     "metadata": {},
     "output_type": "execute_result"
    }
   ],
   "source": [
    "county_item"
   ]
  },
  {
   "cell_type": "code",
   "execution_count": null,
   "metadata": {},
   "outputs": [
    {
     "name": "stdout",
     "output_type": "stream",
     "text": [
      "OBJECTID_1 \t esriFieldTypeOID\n",
      "ObjectID \t esriFieldTypeInteger\n",
      "STATE_FIPS \t esriFieldTypeString\n",
      "CNTY_FIPS \t esriFieldTypeString\n",
      "STCOFIPS \t esriFieldTypeString\n",
      "TRACT \t esriFieldTypeString\n",
      "BLKGRP \t esriFieldTypeString\n",
      "FIPS \t esriFieldTypeString\n",
      "POP2010 \t esriFieldTypeInteger\n",
      "POP10_SQMI \t esriFieldTypeDouble\n",
      "POP2012 \t esriFieldTypeInteger\n",
      "POP12_SQMI \t esriFieldTypeDouble\n",
      "WHITE \t esriFieldTypeInteger\n",
      "BLACK \t esriFieldTypeInteger\n",
      "AMERI_ES \t esriFieldTypeInteger\n",
      "ASIAN \t esriFieldTypeInteger\n",
      "HAWN_PI \t esriFieldTypeInteger\n",
      "HISPANIC \t esriFieldTypeInteger\n",
      "OTHER \t esriFieldTypeInteger\n",
      "MULT_RACE \t esriFieldTypeInteger\n",
      "MALES \t esriFieldTypeInteger\n",
      "FEMALES \t esriFieldTypeInteger\n",
      "AGE_UNDER5 \t esriFieldTypeInteger\n",
      "AGE_5_9 \t esriFieldTypeInteger\n",
      "AGE_10_14 \t esriFieldTypeInteger\n",
      "AGE_15_19 \t esriFieldTypeInteger\n",
      "AGE_20_24 \t esriFieldTypeInteger\n",
      "AGE_25_34 \t esriFieldTypeInteger\n",
      "AGE_35_44 \t esriFieldTypeInteger\n",
      "AGE_45_54 \t esriFieldTypeInteger\n",
      "AGE_55_64 \t esriFieldTypeInteger\n",
      "AGE_65_74 \t esriFieldTypeInteger\n",
      "AGE_75_84 \t esriFieldTypeInteger\n",
      "AGE_85_UP \t esriFieldTypeInteger\n",
      "MED_AGE \t esriFieldTypeDouble\n",
      "MED_AGE_M \t esriFieldTypeDouble\n",
      "MED_AGE_F \t esriFieldTypeDouble\n",
      "HOUSEHOLDS \t esriFieldTypeInteger\n",
      "AVE_HH_SZ \t esriFieldTypeDouble\n",
      "HSEHLD_1_M \t esriFieldTypeInteger\n",
      "HSEHLD_1_F \t esriFieldTypeInteger\n",
      "MARHH_CHD \t esriFieldTypeInteger\n",
      "MARHH_NO_C \t esriFieldTypeInteger\n",
      "MHH_CHILD \t esriFieldTypeInteger\n",
      "FHH_CHILD \t esriFieldTypeInteger\n",
      "FAMILIES \t esriFieldTypeInteger\n",
      "AVE_FAM_SZ \t esriFieldTypeDouble\n",
      "HSE_UNITS \t esriFieldTypeInteger\n",
      "VACANT \t esriFieldTypeInteger\n",
      "OWNER_OCC \t esriFieldTypeInteger\n",
      "RENTER_OCC \t esriFieldTypeInteger\n",
      "SQMI \t esriFieldTypeDouble\n"
     ]
    }
   ],
   "source": [
    "county_feature_layer = county_item.layers[0]\n",
    "for field in county_feature_layer.properties.fields:\n",
    "    print(field['name'] + \" \\t \" + field['type'])"
   ]
  },
  {
   "cell_type": "markdown",
   "metadata": {},
   "source": [
    "### Smart mapping - symbolize by colors"
   ]
  },
  {
   "cell_type": "code",
   "execution_count": null,
   "metadata": {},
   "outputs": [
    {
     "data": {
      "application/vnd.jupyter.widget-view+json": {
       "model_id": "ac95453e7e03492d9b17af19e28c1740",
       "version_major": 2,
       "version_minor": 0
      },
      "text/plain": [
       "MapView(layout=Layout(height='400px', width='100%'), zoom=4.0)"
      ]
     },
     "metadata": {},
     "output_type": "display_data"
    },
    {
     "data": {
      "text/html": [
       "<div class=\"map-static-img-preview-09c0c97a-554d-4997-968c-daf379e65995\"><img src=\"\"></img></div>"
      ],
      "text/plain": [
       "<IPython.core.display.HTML object>"
      ]
     },
     "metadata": {},
     "output_type": "display_data"
    }
   ],
   "source": [
    "map3 = gis.map('USA', zoomlevel=4)\n",
    "map3"
   ]
  },
  {
   "cell_type": "code",
   "execution_count": null,
   "metadata": {},
   "outputs": [],
   "source": [
    "map3.add_layer(county_item, {'renderer': 'ClassedColorRenderer',\n",
    "                             'field_name': 'POP2012',\n",
    "                             'opacity': 0.6})"
   ]
  },
  {
   "cell_type": "code",
   "execution_count": null,
   "metadata": {},
   "outputs": [
    {
     "data": {
      "application/vnd.jupyter.widget-view+json": {
       "model_id": "4b71068fe511461295bfdb24a1d9ea78",
       "version_major": 2,
       "version_minor": 0
      },
      "text/plain": [
       "MapView(layout=Layout(height='400px', width='100%'), zoom=6.0)"
      ]
     },
     "metadata": {},
     "output_type": "display_data"
    },
    {
     "data": {
      "text/html": [
       "<div class=\"map-static-img-preview-694f0fad-9c65-4cad-9b5a-b08f1cc3f079\"><img src=\"\"></img></div>"
      ],
      "text/plain": [
       "<IPython.core.display.HTML object>"
      ]
     },
     "metadata": {},
     "output_type": "display_data"
    }
   ],
   "source": [
    "map4 = gis.map('California', zoomlevel=6)\n",
    "map4"
   ]
  },
  {
   "cell_type": "code",
   "execution_count": null,
   "metadata": {},
   "outputs": [],
   "source": [
    "map4.add_layer(county_item, {\"type\": \"FeatureLayer\",\n",
    "                             \"definition_expression\": \"STATE_NAME='California'\",\n",
    "                             \"renderer\": \"ClassedColorRenderer\",\n",
    "                             \"field_name\": \"POP2012\",\n",
    "                             \"opacity\": 0.7})"
   ]
  },
  {
   "cell_type": "markdown",
   "metadata": {},
   "source": [
    "## Visualizing location data"
   ]
  },
  {
   "cell_type": "code",
   "execution_count": null,
   "metadata": {},
   "outputs": [
    {
     "data": {
      "application/vnd.jupyter.widget-view+json": {
       "model_id": "d93a9e984a8845048b6f0794b09eea9e",
       "version_major": 2,
       "version_minor": 0
      },
      "text/plain": [
       "MapView(layout=Layout(height='400px', width='100%'), zoom=8.0)"
      ]
     },
     "metadata": {},
     "output_type": "display_data"
    },
    {
     "data": {
      "text/html": [
       "<div class=\"map-static-img-preview-8739b700-743e-4e2c-96be-91e4dfd1eb63\"><img src=\"\"></img></div>"
      ],
      "text/plain": [
       "<IPython.core.display.HTML object>"
      ]
     },
     "metadata": {},
     "output_type": "display_data"
    }
   ],
   "source": [
    "map5 = gis.map('Los Angeles', 8)\n",
    "map5"
   ]
  },
  {
   "cell_type": "code",
   "execution_count": null,
   "metadata": {},
   "outputs": [],
   "source": [
    "gis2 = GIS(\"https://python.playground.esri.com/portal\", \"arcgis_python\", \"amazing_arcgis_123\")\n",
    "eq_list = gis2.content.search('title: earthquakes_2', 'feature layer')\n",
    "eq_list"
   ]
  },
  {
   "cell_type": "code",
   "execution_count": null,
   "metadata": {},
   "outputs": [],
   "source": [
    "map5.add_layer(eq_list[0], {\"type\": \"FeatureLayer\",\n",
    "                            \"renderer\": \"HeatmapRenderer\",\n",
    "                            \"opacity\": 0.8})"
   ]
  },
  {
   "cell_type": "code",
   "execution_count": null,
   "metadata": {},
   "outputs": [],
   "source": []
  }
 ],
 "metadata": {
  "kernelspec": {
   "display_name": "Python 3",
   "language": "python",
   "name": "python3"
  },
  "language_info": {
   "codemirror_mode": {
    "name": "ipython",
    "version": 3
   },
   "file_extension": ".py",
   "mimetype": "text/x-python",
   "name": "python",
   "nbconvert_exporter": "python",
   "pygments_lexer": "ipython3",
   "version": "3.6.7"
  }
 },
 "nbformat": 4,
 "nbformat_minor": 2
}
